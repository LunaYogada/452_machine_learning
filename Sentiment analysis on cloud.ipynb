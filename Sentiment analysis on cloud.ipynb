{
 "cells": [
  {
   "cell_type": "code",
   "execution_count": 1,
   "metadata": {
    "collapsed": false,
    "deletable": true,
    "editable": true
   },
   "outputs": [
    {
     "name": "stdout",
     "output_type": "stream",
     "text": [
      "Collecting google\n",
      "Requirement already satisfied: beautifulsoup4 in /usr/local/envs/py3env/lib/python3.5/site-packages (from google)\n",
      "Installing collected packages: google\n",
      "Successfully installed google-2.0.1\n"
     ]
    }
   ],
   "source": [
    "!pip install google"
   ]
  },
  {
   "cell_type": "code",
   "execution_count": 2,
   "metadata": {
    "collapsed": false,
    "deletable": true,
    "editable": true
   },
   "outputs": [
    {
     "name": "stdout",
     "output_type": "stream",
     "text": [
      "Collecting utils\n",
      "  Using cached utils-0.9.0-py2.py3-none-any.whl\n",
      "Installing collected packages: utils\n",
      "Successfully installed utils-0.9.0\n"
     ]
    }
   ],
   "source": [
    "!pip install utils"
   ]
  },
  {
   "cell_type": "code",
   "execution_count": 83,
   "metadata": {
    "collapsed": false
   },
   "outputs": [
    {
     "name": "stdout",
     "output_type": "stream",
     "text": [
      "absl-py==0.1.10\r\n",
      "alembic==0.8.10\r\n",
      "apache-airflow==1.9.0\r\n",
      "asn1crypto==0.22.0\r\n",
      "backports.functools-lru-cache==1.5\r\n",
      "beautifulsoup4==4.6.0\r\n",
      "bleach==2.1.2\r\n",
      "blinker==1.4\r\n",
      "brewer2mpl==1.4.1\r\n",
      "bs4==0.0.1\r\n",
      "cachetools==2.0.0\r\n",
      "certifi==2018.1.18\r\n",
      "cffi==1.11.2\r\n",
      "chardet==3.0.4\r\n",
      "click==6.7\r\n",
      "configparser==3.5.0\r\n",
      "crcmod==1.7\r\n",
      "croniter==0.3.20\r\n",
      "cryptography==2.1.4\r\n",
      "cycler==0.10.0\r\n",
      "dask==0.17.1\r\n",
      "datalab==1.1.2\r\n",
      "decorator==4.1.2\r\n",
      "dill==0.2.7.1\r\n",
      "docutils==0.14\r\n",
      "entrypoints==0.2.3\r\n",
      "fastcache==1.0.2\r\n",
      "Flask==0.11.1\r\n",
      "Flask-Admin==1.4.1\r\n",
      "Flask-Cache==0.13.1\r\n",
      "Flask-Login==0.2.11\r\n",
      "flask-swagger==0.2.13\r\n",
      "Flask-WTF==0.14\r\n",
      "funcsigs==1.0.0\r\n",
      "future==0.16.0\r\n",
      "futures==3.0.5\r\n",
      "gapic-google-cloud-datastore-v1==0.15.3\r\n",
      "gapic-google-cloud-error-reporting-v1beta1==0.15.3\r\n",
      "gapic-google-cloud-logging-v2==0.91.3\r\n",
      "ggplot==0.6.8\r\n",
      "gitdb2==2.0.3\r\n",
      "GitPython==2.1.8\r\n",
      "google==2.0.1\r\n",
      "google-api-core==0.1.4\r\n",
      "google-api-python-client==1.6.2\r\n",
      "google-auth==1.3.0\r\n",
      "google-auth-httplib2==0.0.2\r\n",
      "google-auth-oauthlib==0.1.0\r\n",
      "google-cloud==0.30.0\r\n",
      "google-cloud-bigquery==0.28.0\r\n",
      "google-cloud-bigtable==0.28.1\r\n",
      "google-cloud-core==0.28.0\r\n",
      "google-cloud-datastore==1.4.0\r\n",
      "google-cloud-dns==0.28.0\r\n",
      "google-cloud-error-reporting==0.28.0\r\n",
      "google-cloud-firestore==0.28.0\r\n",
      "google-cloud-language==1.0.0\r\n",
      "google-cloud-logging==1.4.0\r\n",
      "google-cloud-monitoring==0.28.0\r\n",
      "google-cloud-pubsub==0.29.4\r\n",
      "google-cloud-resource-manager==0.28.0\r\n",
      "google-cloud-runtimeconfig==0.28.0\r\n",
      "google-cloud-spanner==0.29.0\r\n",
      "google-cloud-speech==0.30.0\r\n",
      "google-cloud-storage==1.6.0\r\n",
      "google-cloud-trace==0.16.0\r\n",
      "google-cloud-translate==1.3.0\r\n",
      "google-cloud-videointelligence==0.28.0\r\n",
      "google-cloud-vision==0.28.0\r\n",
      "google-gax==0.15.16\r\n",
      "google-resumable-media==0.3.1\r\n",
      "googleapis-common-protos==1.5.3\r\n",
      "grpc-google-iam-v1==0.11.4\r\n",
      "grpcio==1.9.1\r\n",
      "gunicorn==19.7.1\r\n",
      "h5py==2.7.1\r\n",
      "html5lib==1.0.1\r\n",
      "httplib2==0.10.3\r\n",
      "idna==2.6\r\n",
      "imageio==2.2.0\r\n",
      "ipykernel==4.5.2\r\n",
      "ipython==6.2.1\r\n",
      "ipython-genutils==0.2.0\r\n",
      "ipywidgets==6.0.0\r\n",
      "itsdangerous==0.24\r\n",
      "jedi==0.11.1\r\n",
      "Jinja2==2.8\r\n",
      "jsonschema==2.6.0\r\n",
      "jupyter-client==5.2.2\r\n",
      "jupyter-core==4.4.0\r\n",
      "lime==0.1.1.23\r\n",
      "lockfile==0.12.2\r\n",
      "lxml==3.8.0\r\n",
      "Mako==1.0.7\r\n",
      "Markdown==2.6.11\r\n",
      "MarkupSafe==1.0\r\n",
      "matplotlib==2.1.2\r\n",
      "mistune==0.8.3\r\n",
      "mltoolbox-datalab-classification-and-regression==1.0.1\r\n",
      "mltoolbox-datalab-image-classification==0.2\r\n",
      "mock==2.0.0\r\n",
      "nbconvert==5.3.1\r\n",
      "nbformat==4.4.0\r\n",
      "networkx==1.11\r\n",
      "nltk==3.2.1\r\n",
      "notebook==4.4.1\r\n",
      "numpy==1.14.0\r\n",
      "oauth2client==2.2.0\r\n",
      "oauthlib==2.0.6\r\n",
      "olefile==0.45.1\r\n",
      "ordereddict==1.1\r\n",
      "pandas==0.22.0\r\n",
      "pandas-gbq==0.3.0\r\n",
      "pandas-profiling==1.4.1\r\n",
      "pandocfilters==1.4.2\r\n",
      "parso==0.1.1\r\n",
      "patsy==0.5.0\r\n",
      "pbr==3.1.1\r\n",
      "pexpect==4.4.0\r\n",
      "pickleshare==0.7.4\r\n",
      "Pillow==3.4.1\r\n",
      "plotly==1.12.5\r\n",
      "ply==3.8\r\n",
      "prompt-toolkit==1.0.15\r\n",
      "proto-google-cloud-datastore-v1==0.90.4\r\n",
      "proto-google-cloud-error-reporting-v1beta1==0.15.3\r\n",
      "proto-google-cloud-logging-v2==0.91.3\r\n",
      "protobuf==3.5.1\r\n",
      "psutil==4.3.0\r\n",
      "ptyprocess==0.5.2\r\n",
      "pyasn1==0.4.2\r\n",
      "pyasn1-modules==0.2.1\r\n",
      "pycparser==2.18\r\n",
      "Pygments==2.1.3\r\n",
      "PyJWT==1.5.3\r\n",
      "pyOpenSSL==17.4.0\r\n",
      "pyparsing==2.2.0\r\n",
      "PySocks==1.6.8\r\n",
      "python-daemon==2.1.2\r\n",
      "python-dateutil==2.5.0\r\n",
      "python-editor==1.0.3\r\n",
      "python-nvd3==0.14.2\r\n",
      "python-slugify==1.1.4\r\n",
      "python-snappy==0.5.1\r\n",
      "pytz==2016.7\r\n",
      "PyWavelets==0.5.2\r\n",
      "PyYAML==3.11\r\n",
      "pyzmq==16.0.2\r\n",
      "requests==2.9.1\r\n",
      "requests-oauthlib==0.8.0\r\n",
      "rsa==3.4.2\r\n",
      "scikit-image==0.13.0\r\n",
      "scikit-learn==0.18.2\r\n",
      "scipy==1.0.0\r\n",
      "seaborn==0.7.0\r\n",
      "setproctitle==1.1.10\r\n",
      "simplegeneric==0.8.1\r\n",
      "simplejson==3.11.1\r\n",
      "six==1.10.0\r\n",
      "smmap2==2.0.3\r\n",
      "SQLAlchemy==1.2.4\r\n",
      "statsmodels==0.8.0\r\n",
      "sympy==0.7.6.1\r\n",
      "tabulate==0.7.7\r\n",
      "tensorflow==1.5.0\r\n",
      "tensorflow-tensorboard==1.5.1\r\n",
      "terminado==0.8.1\r\n",
      "testpath==0.3.1\r\n",
      "thrift==0.11.0\r\n",
      "toolz==0.8.2\r\n",
      "tornado==4.4.2\r\n",
      "traitlets==4.3.2\r\n",
      "Unidecode==1.0.22\r\n",
      "uritemplate==3.0.0\r\n",
      "urllib3==1.22\r\n",
      "utils==0.9.0\r\n",
      "wcwidth==0.1.7\r\n",
      "webencodings==0.5\r\n",
      "Werkzeug==0.14.1\r\n",
      "widgetsnbextension==2.0.1\r\n",
      "WTForms==2.1\r\n",
      "xgboost==0.6a2\r\n",
      "zope.deprecation==4.3.0\r\n"
     ]
    }
   ],
   "source": [
    "!pip freeze"
   ]
  },
  {
   "cell_type": "code",
   "execution_count": 3,
   "metadata": {
    "collapsed": false,
    "deletable": true,
    "editable": true
   },
   "outputs": [],
   "source": [
    "from google.cloud import language\n",
    "from google.cloud.language import enums\n",
    "from google.cloud.language import types\n",
    "import google.datalab.bigquery as bq\n",
    "import pandas as pd\n",
    "import utils\n",
    "import os"
   ]
  },
  {
   "cell_type": "code",
   "execution_count": 4,
   "metadata": {
    "collapsed": false,
    "deletable": true,
    "editable": true
   },
   "outputs": [],
   "source": [
    "%%bq query --name review\n",
    "SELECT reviewText FROM `cloudai-194723.Amazon.Books` LIMIT 100"
   ]
  },
  {
   "cell_type": "code",
   "execution_count": 5,
   "metadata": {
    "collapsed": false,
    "deletable": true,
    "editable": true
   },
   "outputs": [
    {
     "data": {
      "text/plain": [
       "google.datalab.bigquery._query.Query"
      ]
     },
     "execution_count": 5,
     "metadata": {},
     "output_type": "execute_result"
    }
   ],
   "source": [
    "type(review)"
   ]
  },
  {
   "cell_type": "code",
   "execution_count": 5,
   "metadata": {
    "collapsed": false,
    "deletable": true,
    "editable": true
   },
   "outputs": [
    {
     "data": {
      "text/html": [
       "<div>\n",
       "<style scoped>\n",
       "    .dataframe tbody tr th:only-of-type {\n",
       "        vertical-align: middle;\n",
       "    }\n",
       "\n",
       "    .dataframe tbody tr th {\n",
       "        vertical-align: top;\n",
       "    }\n",
       "\n",
       "    .dataframe thead th {\n",
       "        text-align: right;\n",
       "    }\n",
       "</style>\n",
       "<table border=\"1\" class=\"dataframe\">\n",
       "  <thead>\n",
       "    <tr style=\"text-align: right;\">\n",
       "      <th></th>\n",
       "      <th>reviewText</th>\n",
       "    </tr>\n",
       "  </thead>\n",
       "  <tbody>\n",
       "    <tr>\n",
       "      <th>0</th>\n",
       "      <td>Sara Paretsky, along with Marcia Muller, creat...</td>\n",
       "    </tr>\n",
       "    <tr>\n",
       "      <th>1</th>\n",
       "      <td>I could NOT stop reading this book. To me, not...</td>\n",
       "    </tr>\n",
       "    <tr>\n",
       "      <th>2</th>\n",
       "      <td>This book wasn't as gruesome and vivid as I'd ...</td>\n",
       "    </tr>\n",
       "    <tr>\n",
       "      <th>3</th>\n",
       "      <td>\"Blue Screen\" is the 5th Sunny Randall novel b...</td>\n",
       "    </tr>\n",
       "    <tr>\n",
       "      <th>4</th>\n",
       "      <td>I received the book quickly in time to read it...</td>\n",
       "    </tr>\n",
       "    <tr>\n",
       "      <th>5</th>\n",
       "      <td>Then imitate the action of the tiger;Stiffen t...</td>\n",
       "    </tr>\n",
       "    <tr>\n",
       "      <th>6</th>\n",
       "      <td>the Mario and friends are a main stay in the w...</td>\n",
       "    </tr>\n",
       "    <tr>\n",
       "      <th>7</th>\n",
       "      <td>I gave a four star rating because the story wa...</td>\n",
       "    </tr>\n",
       "    <tr>\n",
       "      <th>8</th>\n",
       "      <td>Okay, I was a little bummed about the VM Movie...</td>\n",
       "    </tr>\n",
       "    <tr>\n",
       "      <th>9</th>\n",
       "      <td>It was noble of Snowden to sacrifice what woul...</td>\n",
       "    </tr>\n",
       "  </tbody>\n",
       "</table>\n",
       "</div>"
      ],
      "text/plain": [
       "                                          reviewText\n",
       "0  Sara Paretsky, along with Marcia Muller, creat...\n",
       "1  I could NOT stop reading this book. To me, not...\n",
       "2  This book wasn't as gruesome and vivid as I'd ...\n",
       "3  \"Blue Screen\" is the 5th Sunny Randall novel b...\n",
       "4  I received the book quickly in time to read it...\n",
       "5  Then imitate the action of the tiger;Stiffen t...\n",
       "6  the Mario and friends are a main stay in the w...\n",
       "7  I gave a four star rating because the story wa...\n",
       "8  Okay, I was a little bummed about the VM Movie...\n",
       "9  It was noble of Snowden to sacrifice what woul..."
      ]
     },
     "execution_count": 5,
     "metadata": {},
     "output_type": "execute_result"
    }
   ],
   "source": [
    "df = review.execute(output_options = bq.QueryOutput.dataframe()).result()\n",
    "df.head(10)"
   ]
  },
  {
   "cell_type": "code",
   "execution_count": 8,
   "metadata": {
    "collapsed": false,
    "deletable": true,
    "editable": true
   },
   "outputs": [
    {
     "data": {
      "text/plain": [
       "'Sara Paretsky, along with Marcia Muller, created a subgenre in the mystery field with her series of Warshawski novels.  And from the beginning, she stood apart from the rest by looking at the important issues of our time, framing them in the lives of ordinary people, while using the conventions of the genre to hook readers into compelling plots, dialogue and...suspense and action.Like P. Schumacher, I have often compared her to Dickens because of her ability to create fabulous characters (including some terrific villains) while making complex political issues accessible to people who otherwise are turned off to politics.In taking on the Walmartization of America, she has plenty of material.  And she explores the issue from a variety of angles, including from the point of view of people forced by circumstance to be trapped in chronic underemployment.  At the same time, she shows how the predatory practices of BigBox America destroys communities, including small business.Any she does...'"
      ]
     },
     "execution_count": 8,
     "metadata": {},
     "output_type": "execute_result"
    }
   ],
   "source": [
    "pd.options.display.max_colwidth = 1000\n",
    "df.iloc[0].to_string(index = False)"
   ]
  },
  {
   "cell_type": "code",
   "execution_count": 131,
   "metadata": {
    "collapsed": false,
    "deletable": true,
    "editable": true
   },
   "outputs": [
    {
     "data": {
      "text/html": [
       "<div>\n",
       "<style scoped>\n",
       "    .dataframe tbody tr th:only-of-type {\n",
       "        vertical-align: middle;\n",
       "    }\n",
       "\n",
       "    .dataframe tbody tr th {\n",
       "        vertical-align: top;\n",
       "    }\n",
       "\n",
       "    .dataframe thead th {\n",
       "        text-align: right;\n",
       "    }\n",
       "</style>\n",
       "<table border=\"1\" class=\"dataframe\">\n",
       "  <thead>\n",
       "    <tr style=\"text-align: right;\">\n",
       "      <th></th>\n",
       "      <th>reviewText</th>\n",
       "    </tr>\n",
       "  </thead>\n",
       "  <tbody>\n",
       "    <tr>\n",
       "      <th>0</th>\n",
       "      <td>None</td>\n",
       "    </tr>\n",
       "    <tr>\n",
       "      <th>1</th>\n",
       "      <td>None</td>\n",
       "    </tr>\n",
       "    <tr>\n",
       "      <th>2</th>\n",
       "      <td>\"Everyone's got a strategy until they get punc...</td>\n",
       "    </tr>\n",
       "    <tr>\n",
       "      <th>3</th>\n",
       "      <td>\"Everyone's got a strategy until they get punc...</td>\n",
       "    </tr>\n",
       "    <tr>\n",
       "      <th>4</th>\n",
       "      <td>Wonderful tale of resourcefulness, resilience,...</td>\n",
       "    </tr>\n",
       "  </tbody>\n",
       "</table>\n",
       "</div>"
      ],
      "text/plain": [
       "                                          reviewText\n",
       "0                                               None\n",
       "1                                               None\n",
       "2  \"Everyone's got a strategy until they get punc...\n",
       "3  \"Everyone's got a strategy until they get punc...\n",
       "4  Wonderful tale of resourcefulness, resilience,..."
      ]
     },
     "execution_count": 131,
     "metadata": {},
     "output_type": "execute_result"
    }
   ],
   "source": [
    "querybook = bq.Query('SELECT reviewText FROM `cloudai-194723.Amazon.1000book` ')\n",
    "output_options = bq.QueryOutput.table(use_cache=False)\n",
    "result = querybook.execute(output_options=output_options).result().to_dataframe()\n",
    "result.head()"
   ]
  },
  {
   "cell_type": "code",
   "execution_count": 23,
   "metadata": {
    "collapsed": false,
    "deletable": true,
    "editable": true
   },
   "outputs": [
    {
     "data": {
      "text/plain": [
       "pandas.core.frame.DataFrame"
      ]
     },
     "execution_count": 23,
     "metadata": {},
     "output_type": "execute_result"
    }
   ],
   "source": [
    "type(result)"
   ]
  },
  {
   "cell_type": "code",
   "execution_count": 21,
   "metadata": {
    "collapsed": true,
    "deletable": true,
    "editable": true
   },
   "outputs": [],
   "source": [
    "from google.datalab import Context"
   ]
  },
  {
   "cell_type": "code",
   "execution_count": 82,
   "metadata": {
    "collapsed": false
   },
   "outputs": [
    {
     "ename": "AttributeError",
     "evalue": "module 'google.datalab.bigquery' has no attribute 'Client'",
     "output_type": "error",
     "traceback": [
      "\u001b[0;31m---------------------------------------------------------------------------\u001b[0m",
      "\u001b[0;31mAttributeError\u001b[0m                            Traceback (most recent call last)",
      "\u001b[0;32m<ipython-input-82-ee81931918da>\u001b[0m in \u001b[0;36m<module>\u001b[0;34m()\u001b[0m\n\u001b[0;32m----> 1\u001b[0;31m \u001b[0mbigquery_client\u001b[0m \u001b[0;34m=\u001b[0m \u001b[0mbq\u001b[0m\u001b[0;34m.\u001b[0m\u001b[0mClient\u001b[0m\u001b[0;34m(\u001b[0m\u001b[0;34m)\u001b[0m\u001b[0;34m\u001b[0m\u001b[0m\n\u001b[0m",
      "\u001b[0;31mAttributeError\u001b[0m: module 'google.datalab.bigquery' has no attribute 'Client'"
     ]
    }
   ],
   "source": [
    "bigquery_client = bq.Client()"
   ]
  },
  {
   "cell_type": "code",
   "execution_count": 52,
   "metadata": {
    "collapsed": false
   },
   "outputs": [
    {
     "data": {
      "text/html": [
       "\n",
       "    <div class=\"bqsv\" id=\"5_152097552407\"></div>\n",
       "    <script src=\"/static/components/requirejs/require.js\"></script>\n",
       "    <script>\n",
       "      require.config({\n",
       "        paths: {\n",
       "          base: '/static/base',\n",
       "        },\n",
       "        map: {\n",
       "          '*': {\n",
       "            datalab: 'nbextensions/gcpdatalab'\n",
       "          }\n",
       "        },\n",
       "      });\n",
       "\n",
       "      require(['datalab/bigquery', 'datalab/element!5_152097552407',\n",
       "          'datalab/style!/nbextensions/gcpdatalab/bigquery.css'],\n",
       "        function(bq, dom) {\n",
       "          bq.renderSchema(dom, [{\"type\": \"STRING\", \"name\": \"reviewTime\", \"mode\": \"NULLABLE\"}, {\"type\": \"INTEGER\", \"name\": \"unixReviewTime\", \"mode\": \"NULLABLE\"}, {\"type\": \"STRING\", \"name\": \"summary\", \"mode\": \"NULLABLE\"}, {\"type\": \"FLOAT\", \"name\": \"overall\", \"mode\": \"NULLABLE\"}, {\"type\": \"STRING\", \"name\": \"reviewText\", \"mode\": \"NULLABLE\"}, {\"type\": \"STRING\", \"name\": \"reviewerName\", \"mode\": \"NULLABLE\"}, {\"type\": \"INTEGER\", \"name\": \"helpful\", \"mode\": \"NULLABLE\"}, {\"type\": \"STRING\", \"name\": \"asin\", \"mode\": \"NULLABLE\"}, {\"type\": \"STRING\", \"name\": \"reviewerID\", \"mode\": \"NULLABLE\"}]);\n",
       "        }\n",
       "      );\n",
       "    </script>\n",
       "    "
      ],
      "text/plain": [
       "BigQuery Schema - Fields:\n",
       "[{'mode': 'NULLABLE',\n",
       "  'name': 'reviewTime',\n",
       "  'type': 'STRING'},\n",
       " {'mode': 'NULLABLE',\n",
       "  'name': 'unixReviewTime',\n",
       "  'type': 'INTEGER'},\n",
       " {'mode': 'NULLABLE',\n",
       "  'name': 'summary',\n",
       "  'type': 'STRING'},\n",
       " {'mode': 'NULLABLE',\n",
       "  'name': 'overall',\n",
       "  'type': 'FLOAT'},\n",
       " {'mode': 'NULLABLE',\n",
       "  'name': 'reviewText',\n",
       "  'type': 'STRING'},\n",
       " {'mode': 'NULLABLE',\n",
       "  'name': 'reviewerName',\n",
       "  'type': 'STRING'},\n",
       " {'mode': 'NULLABLE',\n",
       "  'name': 'helpful',\n",
       "  'type': 'INTEGER'},\n",
       " {'mode': 'NULLABLE',\n",
       "  'name': 'asin',\n",
       "  'type': 'STRING'},\n",
       " {'mode': 'NULLABLE',\n",
       "  'name': 'reviewerID',\n",
       "  'type': 'STRING'}]"
      ]
     },
     "execution_count": 52,
     "metadata": {},
     "output_type": "execute_result"
    }
   ],
   "source": [
    "table= bq.Table('cloudai-194723.Amazon.1000book')\n",
    "table.schema"
   ]
  },
  {
   "cell_type": "code",
   "execution_count": 84,
   "metadata": {
    "collapsed": false
   },
   "outputs": [
    {
     "ename": "AttributeError",
     "evalue": "module 'google.datalab.bigquery' has no attribute 'Client'",
     "output_type": "error",
     "traceback": [
      "\u001b[0;31m---------------------------------------------------------------------------\u001b[0m",
      "\u001b[0;31mAttributeError\u001b[0m                            Traceback (most recent call last)",
      "\u001b[0;32m<ipython-input-84-e8e9189c1327>\u001b[0m in \u001b[0;36m<module>\u001b[0;34m()\u001b[0m\n\u001b[0;32m----> 1\u001b[0;31m \u001b[0mclient\u001b[0m \u001b[0;34m=\u001b[0m \u001b[0mbq\u001b[0m\u001b[0;34m.\u001b[0m\u001b[0mClient\u001b[0m\u001b[0;34m(\u001b[0m\u001b[0;34m)\u001b[0m\u001b[0;34m\u001b[0m\u001b[0m\n\u001b[0m",
      "\u001b[0;31mAttributeError\u001b[0m: module 'google.datalab.bigquery' has no attribute 'Client'"
     ]
    }
   ],
   "source": [
    "client = bq.Client()"
   ]
  },
  {
   "cell_type": "code",
   "execution_count": 94,
   "metadata": {
    "collapsed": false
   },
   "outputs": [
    {
     "data": {
      "text/plain": [
       "[BigQuery Schema Field:\n",
       " {'description': None,\n",
       "  'mode': 'NULLABLE',\n",
       "  'name': 'reviewTime',\n",
       "  'type': 'STRING'}, BigQuery Schema Field:\n",
       " {'description': None,\n",
       "  'mode': 'NULLABLE',\n",
       "  'name': 'unixReviewTime',\n",
       "  'type': 'INTEGER'}, BigQuery Schema Field:\n",
       " {'description': None,\n",
       "  'mode': 'NULLABLE',\n",
       "  'name': 'summary',\n",
       "  'type': 'STRING'}, BigQuery Schema Field:\n",
       " {'description': None,\n",
       "  'mode': 'NULLABLE',\n",
       "  'name': 'overall',\n",
       "  'type': 'FLOAT'}, BigQuery Schema Field:\n",
       " {'description': None,\n",
       "  'mode': 'NULLABLE',\n",
       "  'name': 'reviewText',\n",
       "  'type': 'STRING'}, BigQuery Schema Field:\n",
       " {'description': None,\n",
       "  'mode': 'NULLABLE',\n",
       "  'name': 'reviewerName',\n",
       "  'type': 'STRING'}, BigQuery Schema Field:\n",
       " {'description': None,\n",
       "  'mode': 'NULLABLE',\n",
       "  'name': 'helpful',\n",
       "  'type': 'INTEGER'}, BigQuery Schema Field:\n",
       " {'description': None,\n",
       "  'mode': 'NULLABLE',\n",
       "  'name': 'asin',\n",
       "  'type': 'STRING'}, BigQuery Schema Field:\n",
       " {'description': None,\n",
       "  'mode': 'NULLABLE',\n",
       "  'name': 'reviewerID',\n",
       "  'type': 'STRING'}, BigQuery Schema Field:\n",
       " {'description': '',\n",
       "  'mode': 'NULLABLE',\n",
       "  'name': 'score',\n",
       "  'type': 'INTEGER'}, BigQuery Schema Field:\n",
       " {'description': '',\n",
       "  'mode': 'NULLABLE',\n",
       "  'name': 'magnitude',\n",
       "  'type': 'INTEGER'}]"
      ]
     },
     "execution_count": 94,
     "metadata": {},
     "output_type": "execute_result"
    }
   ],
   "source": [
    "schema = list(table.schema)\n",
    "schema.append(bq.SchemaField('score','INTEGER'))\n",
    "schema.append(bq.SchemaField('magnitude','INTEGER'))\n",
    "schema"
   ]
  },
  {
   "cell_type": "code",
   "execution_count": 79,
   "metadata": {
    "collapsed": false
   },
   "outputs": [
    {
     "data": {
      "text/plain": [
       "google.datalab.bigquery._schema.SchemaField"
      ]
     },
     "execution_count": 79,
     "metadata": {},
     "output_type": "execute_result"
    }
   ],
   "source": [
    "type(schema[0])"
   ]
  },
  {
   "cell_type": "code",
   "execution_count": 93,
   "metadata": {
    "collapsed": false
   },
   "outputs": [
    {
     "ename": "AttributeError",
     "evalue": "can't set attribute",
     "output_type": "error",
     "traceback": [
      "\u001b[0;31m---------------------------------------------------------------------------\u001b[0m",
      "\u001b[0;31mAttributeError\u001b[0m                            Traceback (most recent call last)",
      "\u001b[0;32m<ipython-input-93-7c36e09418e8>\u001b[0m in \u001b[0;36m<module>\u001b[0;34m()\u001b[0m\n\u001b[0;32m----> 1\u001b[0;31m \u001b[0mtable\u001b[0m\u001b[0;34m.\u001b[0m\u001b[0mschema\u001b[0m\u001b[0;34m=\u001b[0m\u001b[0mbq\u001b[0m\u001b[0;34m.\u001b[0m\u001b[0mSchema\u001b[0m\u001b[0;34m.\u001b[0m\u001b[0mfrom_record\u001b[0m\u001b[0;34m(\u001b[0m\u001b[0mschema\u001b[0m\u001b[0;34m)\u001b[0m\u001b[0;34m\u001b[0m\u001b[0m\n\u001b[0m",
      "\u001b[0;31mAttributeError\u001b[0m: can't set attribute"
     ]
    }
   ],
   "source": [
    "table.schema=bq.Schema.from_record(schema)"
   ]
  },
  {
   "cell_type": "code",
   "execution_count": 121,
   "metadata": {
    "collapsed": false
   },
   "outputs": [],
   "source": [
    "schema = [\n",
    "  {'name': 'reviewText', 'type': 'STRING'},\n",
    "  {'name': 'asin', 'type': 'STRING'},\n",
    "  {'name': 'score', 'type': 'FLOAT'},\n",
    "  {'name': 'magnitude','type': 'FLOAT'}\n",
    "]\n",
    "new_schema = bq.Schema.from_data(schema)\n",
    "new_table = bq.Table(\"cloudai-194723.Amazon.bookscore\").create(schema = new_schema, overwrite = True)"
   ]
  },
  {
   "cell_type": "code",
   "execution_count": 100,
   "metadata": {
    "collapsed": false
   },
   "outputs": [
    {
     "data": {
      "text/html": [
       "\n",
       "    <div class=\"bqtv\" id=\"6_152097978987\"></div>\n",
       "    <br />(rows: 0, cloudai-194723.Amazon.bookscore)<br />\n",
       "    <script src=\"/static/components/requirejs/require.js\"></script>\n",
       "    <script>\n",
       "      require.config({\n",
       "        paths: {\n",
       "          base: '/static/base',\n",
       "          d3: '//cdnjs.cloudflare.com/ajax/libs/d3/3.4.13/d3',\n",
       "          plotly: 'https://cdn.plot.ly/plotly-1.5.1.min.js?noext',\n",
       "          jquery: '//ajax.googleapis.com/ajax/libs/jquery/2.0.0/jquery.min'\n",
       "        },\n",
       "        map: {\n",
       "          '*': {\n",
       "            datalab: 'nbextensions/gcpdatalab'\n",
       "          }\n",
       "        },\n",
       "        shim: {\n",
       "          plotly: {\n",
       "            deps: ['d3', 'jquery'],\n",
       "            exports: 'plotly'\n",
       "          }\n",
       "        }\n",
       "      });\n",
       "\n",
       "      require(['datalab/charting', 'datalab/element!6_152097978987', 'base/js/events',\n",
       "          'datalab/style!/nbextensions/gcpdatalab/charting.css'],\n",
       "        function(charts, dom, events) {\n",
       "          charts.render('gcharts', dom, events, 'table', [], {\"cols\": [{\"type\": \"string\", \"id\": \"reviewText\", \"label\": \"reviewText\"}, {\"type\": \"string\", \"id\": \"asin\", \"label\": \"asin\"}, {\"type\": \"number\", \"id\": \"score\", \"label\": \"score\"}, {\"type\": \"number\", \"id\": \"magnitude\", \"label\": \"magnitude\"}], \"rows\": []},\n",
       "            {\n",
       "              pageSize: 25,\n",
       "              cssClassNames:  {\n",
       "                tableRow: 'gchart-table-row',\n",
       "                headerRow: 'gchart-table-headerrow',\n",
       "                oddTableRow: 'gchart-table-oddrow',\n",
       "                selectedTableRow: 'gchart-table-selectedrow',\n",
       "                hoverTableRow: 'gchart-table-hoverrow',\n",
       "                tableCell: 'gchart-table-cell',\n",
       "                headerCell: 'gchart-table-headercell',\n",
       "                rowNumberCell: 'gchart-table-rownumcell'\n",
       "              }\n",
       "            },\n",
       "            {source_index: 1, fields: 'reviewText,asin,score,magnitude'},\n",
       "            0,\n",
       "            0);\n",
       "        }\n",
       "      );\n",
       "    </script>\n",
       "  "
      ],
      "text/plain": [
       "BigQuery Table - name: cloudai-194723.Amazon.bookscore"
      ]
     },
     "execution_count": 100,
     "metadata": {},
     "output_type": "execute_result"
    }
   ],
   "source": [
    "new_table"
   ]
  },
  {
   "cell_type": "code",
   "execution_count": null,
   "metadata": {
    "collapsed": true
   },
   "outputs": [],
   "source": []
  },
  {
   "cell_type": "code",
   "execution_count": 129,
   "metadata": {
    "collapsed": false
   },
   "outputs": [],
   "source": [
    "text = result.iloc[4].to_string(index = False)\n",
    "document = types.Document(\n",
    "        content=text,\n",
    "        type=enums.Document.Type.HTML)\n",
    "senti = client.analyze_sentiment(document).document_sentiment\n",
    "scores = senti.score\n",
    "magnitudes = senti.magnitude\n",
    "string = 'INSERT `cloudai-194723.Amazon.1000book` (score, magnitude) VALUES( '\n",
    "query = ''.join([string,str(scores),',','',str(magnitudes),')'])\n",
    "insert = bq.Query(query)\n",
    "query\n",
    "output_options = bq.QueryOutput.table(use_cache=False)\n",
    "result = insert.execute(output_options=output_options).result()"
   ]
  },
  {
   "cell_type": "code",
   "execution_count": null,
   "metadata": {
    "collapsed": false,
    "deletable": true,
    "editable": true
   },
   "outputs": [],
   "source": [
    "client = language.LanguageServiceClient()\n",
    "for i in range(0, 500):\n",
    "  text = result.iloc[i].to_string(index = False)\n",
    "  document = types.Document(\n",
    "        content=text,\n",
    "        type=enums.Document.Type.HTML)\n",
    "  senti = client.analyze_sentiment(document).document_sentiment\n",
    "  scores = senti.score\n",
    "  magnitudes = senti.magnitude\n",
    "  string = 'INSERT `cloudai-194723.Amazon.1000book` (score, magnitude) VALUES( '\n",
    "  query = ''.join([string,str(scores),',','',str(magnitudes),')'])\n",
    "  insert = bq.Query(query)\n",
    "  output_options = bq.QueryOutput.table(use_cache=False)\n",
    "  output = insert.execute(output_options=output_options).result()\n",
    "  \n",
    "#print('Score: {}'.format(sentiment.score))\n",
    "#print('Magnitude: {}'.format(sentiment.magnitude))\n"
   ]
  },
  {
   "cell_type": "code",
   "execution_count": null,
   "metadata": {
    "collapsed": true,
    "deletable": true,
    "editable": true
   },
   "outputs": [],
   "source": []
  },
  {
   "cell_type": "markdown",
   "metadata": {},
   "source": [
    "# Sentiment analysis with aws comprehend"
   ]
  },
  {
   "cell_type": "code",
   "execution_count": 20,
   "metadata": {
    "collapsed": false,
    "deletable": true,
    "editable": true
   },
   "outputs": [
    {
     "name": "stdout",
     "output_type": "stream",
     "text": [
      "Calling DetectSentiment\n",
      "{\n",
      "    \"ResponseMetadata\": {\n",
      "        \"HTTPHeaders\": {\n",
      "            \"connection\": \"keep-alive\",\n",
      "            \"content-length\": \"164\",\n",
      "            \"content-type\": \"application/x-amz-json-1.1\",\n",
      "            \"date\": \"Mon, 12 Mar 2018 07:52:49 GMT\",\n",
      "            \"x-amzn-requestid\": \"5c494fa5-25ca-11e8-99fe-f955329119a7\"\n",
      "        },\n",
      "        \"HTTPStatusCode\": 200,\n",
      "        \"RequestId\": \"5c494fa5-25ca-11e8-99fe-f955329119a7\",\n",
      "        \"RetryAttempts\": 0\n",
      "    },\n",
      "    \"Sentiment\": \"NEUTRAL\",\n",
      "    \"SentimentScore\": {\n",
      "        \"Mixed\": 0.002063251566141844,\n",
      "        \"Negative\": 0.013271247036755085,\n",
      "        \"Neutral\": 0.9274052977561951,\n",
      "        \"Positive\": 0.057260122150182724\n",
      "    }\n",
      "}\n",
      "End of DetectSentiment\n",
      "\n"
     ]
    }
   ],
   "source": [
    "#aws nlp\n",
    "import boto3\n",
    "import json\n",
    "\n",
    "comprehend = boto3.client(service_name='comprehend', region_name='us-west-2')\n",
    "               \n",
    "text = result.iloc[4].to_string(index = False)\n",
    "\n",
    "print('Calling DetectSentiment')\n",
    "print(json.dumps(comprehend.detect_sentiment(Text=text, LanguageCode='en'), sort_keys=True, indent=4))\n",
    "print('End of DetectSentiment\\n')"
   ]
  }
 ],
 "metadata": {
  "kernelspec": {
   "display_name": "Python 3",
   "language": "python",
   "name": "python3"
  },
  "language_info": {
   "codemirror_mode": {
    "name": "ipython",
    "version": 3
   },
   "file_extension": ".py",
   "mimetype": "text/x-python",
   "name": "python",
   "nbconvert_exporter": "python",
   "pygments_lexer": "ipython3",
   "version": "3.5.5"
  }
 },
 "nbformat": 4,
 "nbformat_minor": 2
}
