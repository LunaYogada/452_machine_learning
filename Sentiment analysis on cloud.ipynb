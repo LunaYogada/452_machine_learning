{
 "cells": [
  {
   "cell_type": "code",
   "execution_count": 4,
   "metadata": {
    "scrolled": false
   },
   "outputs": [
    {
     "name": "stdout",
     "output_type": "stream",
     "text": [
      "Requirement already up-to-date: google-cloud in e:\\application\\python\\lib\\site-packages\n",
      "Requirement already up-to-date: google-cloud-spanner<0.30dev,>=0.29.0 in e:\\application\\python\\lib\\site-packages (from google-cloud)\n",
      "Requirement already up-to-date: google-cloud-error-reporting<0.29dev,>=0.28.0 in e:\\application\\python\\lib\\site-packages (from google-cloud)\n",
      "Requirement already up-to-date: google-cloud-monitoring<0.29dev,>=0.28.0 in e:\\application\\python\\lib\\site-packages (from google-cloud)\n",
      "Requirement already up-to-date: google-cloud-storage<1.7dev,>=1.6.0 in e:\\application\\python\\lib\\site-packages (from google-cloud)\n",
      "Requirement already up-to-date: google-cloud-translate<1.4dev,>=1.3.0 in e:\\application\\python\\lib\\site-packages (from google-cloud)\n",
      "Requirement already up-to-date: google-cloud-container<0.2dev,>=0.1.0 in e:\\application\\python\\lib\\site-packages (from google-cloud)\n",
      "Requirement already up-to-date: google-cloud-logging<1.5dev,>=1.4.0 in e:\\application\\python\\lib\\site-packages (from google-cloud)\n",
      "Requirement already up-to-date: google-cloud-dns<0.29dev,>=0.28.0 in e:\\application\\python\\lib\\site-packages (from google-cloud)\n",
      "Requirement already up-to-date: google-cloud-videointelligence<1.1dev,>=1.0.0 in e:\\application\\python\\lib\\site-packages (from google-cloud)\n",
      "Requirement already up-to-date: google-cloud-firestore<0.29dev,>=0.28.0 in e:\\application\\python\\lib\\site-packages (from google-cloud)\n",
      "Requirement already up-to-date: google-cloud-bigtable<0.29dev,>=0.28.1 in e:\\application\\python\\lib\\site-packages (from google-cloud)\n",
      "Requirement already up-to-date: google-api-core<0.2.0dev,>=0.1.2 in e:\\application\\python\\lib\\site-packages (from google-cloud)\n",
      "Requirement already up-to-date: google-cloud-resource-manager<0.29dev,>=0.28.0 in e:\\application\\python\\lib\\site-packages (from google-cloud)\n",
      "Requirement already up-to-date: google-cloud-bigquery-datatransfer<0.2dev,>=0.1.0 in e:\\application\\python\\lib\\site-packages (from google-cloud)\n",
      "Requirement already up-to-date: google-cloud-speech<0.31dev,>=0.30.0 in e:\\application\\python\\lib\\site-packages (from google-cloud)\n",
      "Requirement already up-to-date: google-cloud-trace<0.18dev,>=0.17.0 in e:\\application\\python\\lib\\site-packages (from google-cloud)\n",
      "Requirement already up-to-date: google-cloud-core<0.29dev,>=0.28.0 in e:\\application\\python\\lib\\site-packages (from google-cloud)\n",
      "Requirement already up-to-date: google-cloud-vision<0.30dev,>=0.29.0 in e:\\application\\python\\lib\\site-packages (from google-cloud)\n",
      "Requirement already up-to-date: google-cloud-pubsub<0.31dev,>=0.30.0 in e:\\application\\python\\lib\\site-packages (from google-cloud)\n",
      "Requirement already up-to-date: google-cloud-bigquery<0.29dev,>=0.28.0 in e:\\application\\python\\lib\\site-packages (from google-cloud)\n",
      "Requirement already up-to-date: google-cloud-runtimeconfig<0.29dev,>=0.28.0 in e:\\application\\python\\lib\\site-packages (from google-cloud)\n",
      "Requirement already up-to-date: google-cloud-language<1.1dev,>=1.0.0 in e:\\application\\python\\lib\\site-packages (from google-cloud)\n",
      "Requirement already up-to-date: google-cloud-datastore<1.5dev,>=1.4.0 in e:\\application\\python\\lib\\site-packages (from google-cloud)\n",
      "Requirement already up-to-date: google-gax<0.16dev,>=0.15.15 in e:\\application\\python\\lib\\site-packages (from google-cloud-spanner<0.30dev,>=0.29.0->google-cloud)\n",
      "Requirement already up-to-date: grpc-google-iam-v1<0.12dev,>=0.11.4 in e:\\application\\python\\lib\\site-packages (from google-cloud-spanner<0.30dev,>=0.29.0->google-cloud)\n",
      "Requirement already up-to-date: requests<3.0dev,>=2.18.4 in e:\\application\\python\\lib\\site-packages (from google-cloud-spanner<0.30dev,>=0.29.0->google-cloud)\n",
      "Requirement already up-to-date: google-auth>=1.1.0 in e:\\application\\python\\lib\\site-packages (from google-cloud-spanner<0.30dev,>=0.29.0->google-cloud)\n",
      "Requirement already up-to-date: gapic-google-cloud-error-reporting-v1beta1<0.16dev,>=0.15.0 in e:\\application\\python\\lib\\site-packages (from google-cloud-error-reporting<0.29dev,>=0.28.0->google-cloud)\n",
      "Requirement already up-to-date: google-resumable-media>=0.3.1 in e:\\application\\python\\lib\\site-packages (from google-cloud-storage<1.7dev,>=1.6.0->google-cloud)\n",
      "Requirement already up-to-date: gapic-google-cloud-logging-v2<0.92dev,>=0.91.0 in e:\\application\\python\\lib\\site-packages (from google-cloud-logging<1.5dev,>=1.4.0->google-cloud)\n",
      "Requirement already up-to-date: setuptools>=34.0.0 in e:\\application\\python\\lib\\site-packages (from google-api-core<0.2.0dev,>=0.1.2->google-cloud)\n",
      "Requirement already up-to-date: six>=1.10.0 in e:\\application\\python\\lib\\site-packages (from google-api-core<0.2.0dev,>=0.1.2->google-cloud)\n",
      "Requirement already up-to-date: protobuf>=3.0.0 in e:\\application\\python\\lib\\site-packages (from google-api-core<0.2.0dev,>=0.1.2->google-cloud)\n",
      "Requirement already up-to-date: futures>=3.2.0; python_version < \"3.2\" in e:\\application\\python\\lib\\site-packages (from google-api-core<0.2.0dev,>=0.1.2->google-cloud)\n",
      "Requirement already up-to-date: googleapis-common-protos<2.0dev,>=1.5.3 in e:\\application\\python\\lib\\site-packages (from google-api-core<0.2.0dev,>=0.1.2->google-cloud)\n",
      "Requirement already up-to-date: pytz in e:\\application\\python\\lib\\site-packages (from google-api-core<0.2.0dev,>=0.1.2->google-cloud)\n",
      "Requirement already up-to-date: enum34; python_version < \"3.4\" in e:\\application\\python\\lib\\site-packages (from google-cloud-vision<0.30dev,>=0.29.0->google-cloud)\n",
      "Requirement already up-to-date: psutil<6.0dev,>=5.2.2 in e:\\application\\python\\lib\\site-packages (from google-cloud-pubsub<0.31dev,>=0.30.0->google-cloud)\n",
      "Requirement already up-to-date: gapic-google-cloud-datastore-v1<0.16dev,>=0.15.0 in e:\\application\\python\\lib\\site-packages (from google-cloud-datastore<1.5dev,>=1.4.0->google-cloud)\n",
      "Requirement already up-to-date: ply==3.8 in e:\\application\\python\\lib\\site-packages (from google-gax<0.16dev,>=0.15.15->google-cloud-spanner<0.30dev,>=0.29.0->google-cloud)\n",
      "Requirement already up-to-date: dill<0.3dev,>=0.2.5 in e:\\application\\python\\lib\\site-packages (from google-gax<0.16dev,>=0.15.15->google-cloud-spanner<0.30dev,>=0.29.0->google-cloud)\n",
      "Requirement already up-to-date: grpcio<2.0dev,>=1.0.2 in e:\\application\\python\\lib\\site-packages (from google-gax<0.16dev,>=0.15.15->google-cloud-spanner<0.30dev,>=0.29.0->google-cloud)\n",
      "Requirement already up-to-date: future<0.17dev,>=0.16.0 in e:\\application\\python\\lib\\site-packages (from google-gax<0.16dev,>=0.15.15->google-cloud-spanner<0.30dev,>=0.29.0->google-cloud)\n",
      "Requirement already up-to-date: chardet<3.1.0,>=3.0.2 in e:\\application\\python\\lib\\site-packages (from requests<3.0dev,>=2.18.4->google-cloud-spanner<0.30dev,>=0.29.0->google-cloud)\n",
      "Requirement already up-to-date: certifi>=2017.4.17 in e:\\application\\python\\lib\\site-packages (from requests<3.0dev,>=2.18.4->google-cloud-spanner<0.30dev,>=0.29.0->google-cloud)\n",
      "Requirement already up-to-date: urllib3<1.23,>=1.21.1 in e:\\application\\python\\lib\\site-packages (from requests<3.0dev,>=2.18.4->google-cloud-spanner<0.30dev,>=0.29.0->google-cloud)\n",
      "Requirement already up-to-date: idna<2.7,>=2.5 in e:\\application\\python\\lib\\site-packages (from requests<3.0dev,>=2.18.4->google-cloud-spanner<0.30dev,>=0.29.0->google-cloud)\n",
      "Requirement already up-to-date: rsa>=3.1.4 in e:\\application\\python\\lib\\site-packages (from google-auth>=1.1.0->google-cloud-spanner<0.30dev,>=0.29.0->google-cloud)\n",
      "Requirement already up-to-date: pyasn1-modules>=0.2.1 in e:\\application\\python\\lib\\site-packages (from google-auth>=1.1.0->google-cloud-spanner<0.30dev,>=0.29.0->google-cloud)\n",
      "Requirement already up-to-date: cachetools>=2.0.0 in e:\\application\\python\\lib\\site-packages (from google-auth>=1.1.0->google-cloud-spanner<0.30dev,>=0.29.0->google-cloud)\n",
      "Requirement already up-to-date: proto-google-cloud-error-reporting-v1beta1[grpc]<0.16dev,>=0.15.3 in e:\\application\\python\\lib\\site-packages (from gapic-google-cloud-error-reporting-v1beta1<0.16dev,>=0.15.0->google-cloud-error-reporting<0.29dev,>=0.28.0->google-cloud)\n",
      "Requirement already up-to-date: oauth2client<4.0dev,>=2.0.0 in e:\\application\\python\\lib\\site-packages (from gapic-google-cloud-error-reporting-v1beta1<0.16dev,>=0.15.0->google-cloud-error-reporting<0.29dev,>=0.28.0->google-cloud)\n",
      "Requirement already up-to-date: proto-google-cloud-logging-v2[grpc]<0.92dev,>=0.91.3 in e:\\application\\python\\lib\\site-packages (from gapic-google-cloud-logging-v2<0.92dev,>=0.91.0->google-cloud-logging<1.5dev,>=1.4.0->google-cloud)\n",
      "Requirement already up-to-date: proto-google-cloud-datastore-v1[grpc]<0.91dev,>=0.90.3 in e:\\application\\python\\lib\\site-packages (from gapic-google-cloud-datastore-v1<0.16dev,>=0.15.0->google-cloud-datastore<1.5dev,>=1.4.0->google-cloud)\n",
      "Requirement already up-to-date: pyreadline>=1.7.1 in e:\\application\\python\\lib\\site-packages (from dill<0.3dev,>=0.2.5->google-gax<0.16dev,>=0.15.15->google-cloud-spanner<0.30dev,>=0.29.0->google-cloud)\n",
      "Requirement already up-to-date: pyasn1>=0.1.3 in e:\\application\\python\\lib\\site-packages (from rsa>=3.1.4->google-auth>=1.1.0->google-cloud-spanner<0.30dev,>=0.29.0->google-cloud)\n",
      "Requirement already up-to-date: httplib2>=0.9.1 in e:\\application\\python\\lib\\site-packages (from oauth2client<4.0dev,>=2.0.0->gapic-google-cloud-error-reporting-v1beta1<0.16dev,>=0.15.0->google-cloud-error-reporting<0.29dev,>=0.28.0->google-cloud)\n"
     ]
    },
    {
     "ename": "ModuleNotFoundError",
     "evalue": "No module named 'google.cloud'",
     "output_type": "error",
     "traceback": [
      "\u001b[1;31m---------------------------------------------------------------------------\u001b[0m",
      "\u001b[1;31mModuleNotFoundError\u001b[0m                       Traceback (most recent call last)",
      "\u001b[1;32m<ipython-input-4-92f052b115a9>\u001b[0m in \u001b[0;36m<module>\u001b[1;34m()\u001b[0m\n\u001b[0;32m      1\u001b[0m \u001b[1;31m# Imports the Google Cloud client library\u001b[0m\u001b[1;33m\u001b[0m\u001b[1;33m\u001b[0m\u001b[0m\n\u001b[0;32m      2\u001b[0m \u001b[0mget_ipython\u001b[0m\u001b[1;33m(\u001b[0m\u001b[1;33m)\u001b[0m\u001b[1;33m.\u001b[0m\u001b[0msystem\u001b[0m\u001b[1;33m(\u001b[0m\u001b[1;34m'pip install --upgrade google-cloud'\u001b[0m\u001b[1;33m)\u001b[0m\u001b[1;33m\u001b[0m\u001b[0m\n\u001b[1;32m----> 3\u001b[1;33m \u001b[1;32mfrom\u001b[0m \u001b[0mgoogle\u001b[0m\u001b[1;33m.\u001b[0m\u001b[0mcloud\u001b[0m \u001b[1;32mimport\u001b[0m \u001b[0mlanguage\u001b[0m\u001b[1;33m\u001b[0m\u001b[0m\n\u001b[0m\u001b[0;32m      4\u001b[0m \u001b[1;32mfrom\u001b[0m \u001b[0mgoogle\u001b[0m\u001b[1;33m.\u001b[0m\u001b[0mcloud\u001b[0m\u001b[1;33m.\u001b[0m\u001b[0mlanguage\u001b[0m \u001b[1;32mimport\u001b[0m \u001b[0menums\u001b[0m\u001b[1;33m\u001b[0m\u001b[0m\n\u001b[0;32m      5\u001b[0m \u001b[1;32mfrom\u001b[0m \u001b[0mgoogle\u001b[0m\u001b[1;33m.\u001b[0m\u001b[0mcloud\u001b[0m\u001b[1;33m.\u001b[0m\u001b[0mlanguage\u001b[0m \u001b[1;32mimport\u001b[0m \u001b[0mtypes\u001b[0m\u001b[1;33m\u001b[0m\u001b[0m\n",
      "\u001b[1;31mModuleNotFoundError\u001b[0m: No module named 'google.cloud'"
     ]
    }
   ],
   "source": [
    "# Imports the Google Cloud client library\n",
    "!pip install --upgrade google-cloud\n",
    "from google.cloud import language\n",
    "from google.cloud.language import enums\n",
    "from google.cloud.language import types"
   ]
  },
  {
   "cell_type": "code",
   "execution_count": 5,
   "metadata": {},
   "outputs": [
    {
     "name": "stderr",
     "output_type": "stream",
     "text": [
      "Cloning into 'google-cloud-python'...\n"
     ]
    }
   ],
   "source": [
    "!git clone https://github.com/GoogleCloudPlatform/google-cloud-python.git"
   ]
  },
  {
   "cell_type": "code",
   "execution_count": 6,
   "metadata": {
    "collapsed": true
   },
   "outputs": [],
   "source": [
    "!cd google-cloud-python"
   ]
  },
  {
   "cell_type": "code",
   "execution_count": 6,
   "metadata": {
    "collapsed": true
   },
   "outputs": [],
   "source": [
    "import json\n",
    "import os"
   ]
  },
  {
   "cell_type": "code",
   "execution_count": 7,
   "metadata": {},
   "outputs": [
    {
     "ename": "AttributeError",
     "evalue": "'str' object has no attribute 'read'",
     "output_type": "error",
     "traceback": [
      "\u001b[1;31m---------------------------------------------------------------------------\u001b[0m",
      "\u001b[1;31mAttributeError\u001b[0m                            Traceback (most recent call last)",
      "\u001b[1;32m<ipython-input-7-e227fd084758>\u001b[0m in \u001b[0;36m<module>\u001b[1;34m()\u001b[0m\n\u001b[0;32m      2\u001b[0m \u001b[0mos\u001b[0m\u001b[1;33m.\u001b[0m\u001b[0menviron\u001b[0m\u001b[1;33m[\u001b[0m\u001b[1;34m\"GOOGLE_APPLICATION_CREDENTIALS\"\u001b[0m\u001b[1;33m]\u001b[0m\u001b[1;33m=\u001b[0m\u001b[1;34m\"/Users/liuji/cloudai-6d93f4a097f3.json\"\u001b[0m\u001b[1;33m\u001b[0m\u001b[0m\n\u001b[0;32m      3\u001b[0m \u001b[1;32mimport\u001b[0m \u001b[0mjson\u001b[0m\u001b[1;33m\u001b[0m\u001b[0m\n\u001b[1;32m----> 4\u001b[1;33m \u001b[0mjson\u001b[0m\u001b[1;33m.\u001b[0m\u001b[0mload\u001b[0m\u001b[1;33m(\u001b[0m\u001b[1;34m\"/Users/liuji/cloudai-6d93f4a097f3.json\"\u001b[0m\u001b[1;33m)\u001b[0m\u001b[1;33m\u001b[0m\u001b[0m\n\u001b[0m",
      "\u001b[1;32mE:\\Application\\anaconda\\lib\\json\\__init__.py\u001b[0m in \u001b[0;36mload\u001b[1;34m(fp, cls, object_hook, parse_float, parse_int, parse_constant, object_pairs_hook, **kw)\u001b[0m\n\u001b[0;32m    294\u001b[0m \u001b[1;33m\u001b[0m\u001b[0m\n\u001b[0;32m    295\u001b[0m     \"\"\"\n\u001b[1;32m--> 296\u001b[1;33m     return loads(fp.read(),\n\u001b[0m\u001b[0;32m    297\u001b[0m         \u001b[0mcls\u001b[0m\u001b[1;33m=\u001b[0m\u001b[0mcls\u001b[0m\u001b[1;33m,\u001b[0m \u001b[0mobject_hook\u001b[0m\u001b[1;33m=\u001b[0m\u001b[0mobject_hook\u001b[0m\u001b[1;33m,\u001b[0m\u001b[1;33m\u001b[0m\u001b[0m\n\u001b[0;32m    298\u001b[0m         \u001b[0mparse_float\u001b[0m\u001b[1;33m=\u001b[0m\u001b[0mparse_float\u001b[0m\u001b[1;33m,\u001b[0m \u001b[0mparse_int\u001b[0m\u001b[1;33m=\u001b[0m\u001b[0mparse_int\u001b[0m\u001b[1;33m,\u001b[0m\u001b[1;33m\u001b[0m\u001b[0m\n",
      "\u001b[1;31mAttributeError\u001b[0m: 'str' object has no attribute 'read'"
     ]
    }
   ],
   "source": [
    "import os\n",
    "os.environ[\"GOOGLE_APPLICATION_CREDENTIALS\"]=\"/Users/liuji/cloudai-6d93f4a097f3.json\"\n",
    "import json\n",
    "json.loads(response.read())\n",
    "json.load(\"/Users/liuji/cloudai-6d93f4a097f3.json\")"
   ]
  },
  {
   "cell_type": "code",
   "execution_count": 2,
   "metadata": {},
   "outputs": [
    {
     "ename": "ModuleNotFoundError",
     "evalue": "No module named 'google.protobuf'",
     "output_type": "error",
     "traceback": [
      "\u001b[1;31m---------------------------------------------------------------------------\u001b[0m",
      "\u001b[1;31mModuleNotFoundError\u001b[0m                       Traceback (most recent call last)",
      "\u001b[1;32m<ipython-input-2-91d05ad707dc>\u001b[0m in \u001b[0;36m<module>\u001b[1;34m()\u001b[0m\n\u001b[1;32m----> 1\u001b[1;33m \u001b[1;32mfrom\u001b[0m \u001b[0mgoogle\u001b[0m\u001b[1;33m.\u001b[0m\u001b[0mcloud\u001b[0m \u001b[1;32mimport\u001b[0m \u001b[0mlanguage\u001b[0m\u001b[1;33m\u001b[0m\u001b[0m\n\u001b[0m\u001b[0;32m      2\u001b[0m \u001b[1;32mfrom\u001b[0m \u001b[0mgoogle\u001b[0m\u001b[1;33m.\u001b[0m\u001b[0mcloud\u001b[0m\u001b[1;33m.\u001b[0m\u001b[0mlanguage\u001b[0m \u001b[1;32mimport\u001b[0m \u001b[0menums\u001b[0m\u001b[1;33m\u001b[0m\u001b[0m\n\u001b[0;32m      3\u001b[0m \u001b[1;32mfrom\u001b[0m \u001b[0mgoogle\u001b[0m\u001b[1;33m.\u001b[0m\u001b[0mcloud\u001b[0m\u001b[1;33m.\u001b[0m\u001b[0mlanguage\u001b[0m \u001b[1;32mimport\u001b[0m \u001b[0mtypes\u001b[0m\u001b[1;33m\u001b[0m\u001b[0m\n",
      "\u001b[1;32me:\\application\\anaconda\\lib\\site-packages\\google_cloud_language-1.0.1-py3.6.egg\\google\\cloud\\language.py\u001b[0m in \u001b[0;36m<module>\u001b[1;34m()\u001b[0m\n\u001b[0;32m     15\u001b[0m \u001b[1;32mfrom\u001b[0m \u001b[0m__future__\u001b[0m \u001b[1;32mimport\u001b[0m \u001b[0mabsolute_import\u001b[0m\u001b[1;33m\u001b[0m\u001b[0m\n\u001b[0;32m     16\u001b[0m \u001b[1;33m\u001b[0m\u001b[0m\n\u001b[1;32m---> 17\u001b[1;33m \u001b[1;32mfrom\u001b[0m \u001b[0mgoogle\u001b[0m\u001b[1;33m.\u001b[0m\u001b[0mcloud\u001b[0m\u001b[1;33m.\u001b[0m\u001b[0mlanguage_v1\u001b[0m \u001b[1;32mimport\u001b[0m \u001b[0mLanguageServiceClient\u001b[0m\u001b[1;33m\u001b[0m\u001b[0m\n\u001b[0m\u001b[0;32m     18\u001b[0m \u001b[1;32mfrom\u001b[0m \u001b[0mgoogle\u001b[0m\u001b[1;33m.\u001b[0m\u001b[0mcloud\u001b[0m\u001b[1;33m.\u001b[0m\u001b[0mlanguage_v1\u001b[0m \u001b[1;32mimport\u001b[0m \u001b[0menums\u001b[0m\u001b[1;33m\u001b[0m\u001b[0m\n\u001b[0;32m     19\u001b[0m \u001b[1;32mfrom\u001b[0m \u001b[0mgoogle\u001b[0m\u001b[1;33m.\u001b[0m\u001b[0mcloud\u001b[0m\u001b[1;33m.\u001b[0m\u001b[0mlanguage_v1\u001b[0m \u001b[1;32mimport\u001b[0m \u001b[0mtypes\u001b[0m\u001b[1;33m\u001b[0m\u001b[0m\n",
      "\u001b[1;32me:\\application\\anaconda\\lib\\site-packages\\google_cloud_language-1.0.1-py3.6.egg\\google\\cloud\\language_v1\\__init__.py\u001b[0m in \u001b[0;36m<module>\u001b[1;34m()\u001b[0m\n\u001b[0;32m     15\u001b[0m \u001b[1;32mfrom\u001b[0m \u001b[0m__future__\u001b[0m \u001b[1;32mimport\u001b[0m \u001b[0mabsolute_import\u001b[0m\u001b[1;33m\u001b[0m\u001b[0m\n\u001b[0;32m     16\u001b[0m \u001b[1;33m\u001b[0m\u001b[0m\n\u001b[1;32m---> 17\u001b[1;33m \u001b[1;32mfrom\u001b[0m \u001b[0mgoogle\u001b[0m\u001b[1;33m.\u001b[0m\u001b[0mcloud\u001b[0m\u001b[1;33m.\u001b[0m\u001b[0mlanguage_v1\u001b[0m \u001b[1;32mimport\u001b[0m \u001b[0mtypes\u001b[0m\u001b[1;33m\u001b[0m\u001b[0m\n\u001b[0m\u001b[0;32m     18\u001b[0m \u001b[1;32mfrom\u001b[0m \u001b[0mgoogle\u001b[0m\u001b[1;33m.\u001b[0m\u001b[0mcloud\u001b[0m\u001b[1;33m.\u001b[0m\u001b[0mlanguage_v1\u001b[0m\u001b[1;33m.\u001b[0m\u001b[0mgapic\u001b[0m \u001b[1;32mimport\u001b[0m \u001b[0menums\u001b[0m\u001b[1;33m\u001b[0m\u001b[0m\n\u001b[0;32m     19\u001b[0m \u001b[1;32mfrom\u001b[0m \u001b[0mgoogle\u001b[0m\u001b[1;33m.\u001b[0m\u001b[0mcloud\u001b[0m\u001b[1;33m.\u001b[0m\u001b[0mlanguage_v1\u001b[0m\u001b[1;33m.\u001b[0m\u001b[0mgapic\u001b[0m \u001b[1;32mimport\u001b[0m \u001b[0mlanguage_service_client\u001b[0m\u001b[1;33m\u001b[0m\u001b[0m\n",
      "\u001b[1;32me:\\application\\anaconda\\lib\\site-packages\\google_cloud_language-1.0.1-py3.6.egg\\google\\cloud\\language_v1\\types.py\u001b[0m in \u001b[0;36m<module>\u001b[1;34m()\u001b[0m\n\u001b[0;32m     16\u001b[0m \u001b[1;32mimport\u001b[0m \u001b[0msys\u001b[0m\u001b[1;33m\u001b[0m\u001b[0m\n\u001b[0;32m     17\u001b[0m \u001b[1;33m\u001b[0m\u001b[0m\n\u001b[1;32m---> 18\u001b[1;33m \u001b[1;32mfrom\u001b[0m \u001b[0mgoogle\u001b[0m\u001b[1;33m.\u001b[0m\u001b[0mapi_core\u001b[0m\u001b[1;33m.\u001b[0m\u001b[0mprotobuf_helpers\u001b[0m \u001b[1;32mimport\u001b[0m \u001b[0mget_messages\u001b[0m\u001b[1;33m\u001b[0m\u001b[0m\n\u001b[0m\u001b[0;32m     19\u001b[0m \u001b[1;33m\u001b[0m\u001b[0m\n\u001b[0;32m     20\u001b[0m \u001b[1;32mfrom\u001b[0m \u001b[0mgoogle\u001b[0m\u001b[1;33m.\u001b[0m\u001b[0mapi\u001b[0m \u001b[1;32mimport\u001b[0m \u001b[0mhttp_pb2\u001b[0m\u001b[1;33m\u001b[0m\u001b[0m\n",
      "\u001b[1;32me:\\application\\anaconda\\lib\\site-packages\\google_api_core-0.1.4-py3.6.egg\\google\\api_core\\protobuf_helpers.py\u001b[0m in \u001b[0;36m<module>\u001b[1;34m()\u001b[0m\n\u001b[0;32m     18\u001b[0m \u001b[1;32mimport\u001b[0m \u001b[0minspect\u001b[0m\u001b[1;33m\u001b[0m\u001b[0m\n\u001b[0;32m     19\u001b[0m \u001b[1;33m\u001b[0m\u001b[0m\n\u001b[1;32m---> 20\u001b[1;33m \u001b[1;32mfrom\u001b[0m \u001b[0mgoogle\u001b[0m\u001b[1;33m.\u001b[0m\u001b[0mprotobuf\u001b[0m\u001b[1;33m.\u001b[0m\u001b[0mmessage\u001b[0m \u001b[1;32mimport\u001b[0m \u001b[0mMessage\u001b[0m\u001b[1;33m\u001b[0m\u001b[0m\n\u001b[0m\u001b[0;32m     21\u001b[0m \u001b[1;33m\u001b[0m\u001b[0m\n\u001b[0;32m     22\u001b[0m \u001b[0m_SENTINEL\u001b[0m \u001b[1;33m=\u001b[0m \u001b[0mobject\u001b[0m\u001b[1;33m(\u001b[0m\u001b[1;33m)\u001b[0m\u001b[1;33m\u001b[0m\u001b[0m\n",
      "\u001b[1;31mModuleNotFoundError\u001b[0m: No module named 'google.protobuf'"
     ]
    }
   ],
   "source": [
    "from google.cloud import language\n",
    "from google.cloud.language import enums\n",
    "from google.cloud.language import types"
   ]
  },
  {
   "cell_type": "code",
   "execution_count": null,
   "metadata": {
    "collapsed": true
   },
   "outputs": [],
   "source": []
  }
 ],
 "metadata": {
  "kernelspec": {
   "display_name": "Python 3",
   "language": "python",
   "name": "python3"
  },
  "language_info": {
   "codemirror_mode": {
    "name": "ipython",
    "version": 3
   },
   "file_extension": ".py",
   "mimetype": "text/x-python",
   "name": "python",
   "nbconvert_exporter": "python",
   "pygments_lexer": "ipython3",
   "version": "3.6.2"
  }
 },
 "nbformat": 4,
 "nbformat_minor": 2
}
