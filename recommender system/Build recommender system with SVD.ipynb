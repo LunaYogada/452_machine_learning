{
  "cells": [
    {
      "metadata": {
        "_cell_guid": "b1076dfc-b9ad-4769-8c92-a6c4dae69d19",
        "_uuid": "8f2839f25d086af736a60e9eeb907d3b93b6e0e5",
        "trusted": false,
        "collapsed": true
      },
      "cell_type": "code",
      "source": "\n\nimport numpy as np # linear algebra\nimport pandas as pd # data processing, CSV file I/O (e.g. pd.read_csv)\n\n# Input data files are available in the \"../input/\" directory.\n# For example, running this (by clicking run or pressing Shift+Enter) will list the files in the input directory\nimport sklearn\nfrom sklearn.decomposition import TruncatedSVD\nimport os\nprint(os.listdir(\"../input\"))\n\n# Any results you write to the current directory are saved as output.",
      "execution_count": null,
      "outputs": []
    },
    {
      "metadata": {
        "_cell_guid": "79c7e3d0-c299-4dcb-8224-4455121ee9b0",
        "_uuid": "d629ff2d2480ee46fbb7e2d37f6b5fab8052498a",
        "trusted": false,
        "collapsed": true
      },
      "cell_type": "code",
      "source": "df = pd.read_csv('../input/ratings.csv');df.head()",
      "execution_count": null,
      "outputs": []
    },
    {
      "metadata": {
        "_cell_guid": "40cabad8-5b77-4ea8-a21c-204f93a11de1",
        "_uuid": "5fa6c81eeca83ab56d43c5ec6ed55b9e6df5ff0d",
        "trusted": false,
        "collapsed": true
      },
      "cell_type": "code",
      "source": "df.shape",
      "execution_count": null,
      "outputs": []
    },
    {
      "metadata": {
        "_cell_guid": "abc02c27-7fac-49cf-8e1e-cbb19fc7550b",
        "_uuid": "e4db1898246d1e57623df2b1aa663c81bb860718",
        "trusted": false,
        "collapsed": true
      },
      "cell_type": "code",
      "source": "len(df.movieId.unique())",
      "execution_count": null,
      "outputs": []
    },
    {
      "metadata": {
        "_cell_guid": "7531bdc7-a9b8-43f4-8212-1f334326e7b1",
        "_uuid": "bbe9f3ed262cf9c655c5ddf2a70f698307c9640b",
        "trusted": false,
        "collapsed": true
      },
      "cell_type": "code",
      "source": "df.describe()",
      "execution_count": null,
      "outputs": []
    },
    {
      "metadata": {
        "_cell_guid": "e45e5a8a-b4e8-4336-b179-16220691a942",
        "_uuid": "59c2563faa7b7bbb16637bc41cfeff9e30372be7",
        "trusted": false,
        "collapsed": true
      },
      "cell_type": "code",
      "source": "sub_df = df[df['userId'] < 300]; len(sub_df.movieId.unique())",
      "execution_count": null,
      "outputs": []
    },
    {
      "metadata": {
        "_cell_guid": "9a7adea0-fd8c-45ee-b9e4-f53231abd718",
        "_uuid": "796e56dc9cf24a787b699536a1e6b29b3fd64ebb"
      },
      "cell_type": "markdown",
      "source": "# Find the most popular movie ID"
    },
    {
      "metadata": {
        "_cell_guid": "973e2d48-8600-4c8d-8083-60db8e80e3f8",
        "_uuid": "acf0d03c94639c2e5ac921070a0c3bb22141ac0c",
        "trusted": false,
        "collapsed": true
      },
      "cell_type": "code",
      "source": "sub_df.groupby('movieId')['rating'].count().sort_values(ascending = False).head()",
      "execution_count": null,
      "outputs": []
    },
    {
      "metadata": {
        "collapsed": true,
        "_cell_guid": "790abdf8-09d3-403a-b222-e75a547a0ab9",
        "_uuid": "49f713ac0323fc07e65220aaccb7edceccb1551d",
        "trusted": false
      },
      "cell_type": "code",
      "source": "filter = (sub_df['movieId']==296)",
      "execution_count": null,
      "outputs": []
    },
    {
      "metadata": {
        "_cell_guid": "1709cddd-f398-47bd-a49f-1d403b6da55e",
        "_uuid": "47c709eae39a00b0705debb72790a7de68e5f995",
        "trusted": false,
        "collapsed": true
      },
      "cell_type": "code",
      "source": "cross_rate = sub_df.pivot_table(values = 'rating', index = 'userId', columns = 'movieId', fill_value = 0);cross_rate.head()",
      "execution_count": null,
      "outputs": []
    },
    {
      "metadata": {
        "_cell_guid": "2d000e79-0f74-4f49-87e5-f1c541356183",
        "_uuid": "9f7971b9d029a767045cd0950eef2807ab556560",
        "trusted": false,
        "collapsed": true
      },
      "cell_type": "code",
      "source": "cross_rate.shape",
      "execution_count": null,
      "outputs": []
    },
    {
      "metadata": {
        "_cell_guid": "25ffe276-ed91-45a9-b49e-8d494eaa50b2",
        "_uuid": "9422ef62ada3329a905ed96c644be92e1e63092c"
      },
      "cell_type": "markdown",
      "source": "# Build utility matrix for movies "
    },
    {
      "metadata": {
        "_cell_guid": "ad05cb8a-ed8c-41cd-a234-5e8551515240",
        "_uuid": "bc73067f89b7a82b18c6a48f3ea80725e497353c",
        "trusted": false,
        "collapsed": true
      },
      "cell_type": "code",
      "source": "X= cross_rate.T; X.shape",
      "execution_count": null,
      "outputs": []
    },
    {
      "metadata": {
        "collapsed": true,
        "_cell_guid": "de10d6d3-1a1c-4047-acf4-74c469876a9b",
        "_uuid": "506f099fb9e9a0f2412c4b81aff7205f311cf696",
        "trusted": false
      },
      "cell_type": "code",
      "source": "SVD = TruncatedSVD(n_components = 12, random_state = 17)",
      "execution_count": null,
      "outputs": []
    },
    {
      "metadata": {
        "_cell_guid": "d6718ceb-81d6-4e71-9f97-f3353ad818bd",
        "_uuid": "bc52a812d8d61a61e3023f5a1056430c4c85ec6d",
        "trusted": false,
        "collapsed": true
      },
      "cell_type": "code",
      "source": "matrix = SVD.fit_transform(X); matrix.shape",
      "execution_count": null,
      "outputs": []
    },
    {
      "metadata": {
        "scrolled": true,
        "_cell_guid": "2f0b3e95-b210-4f3a-9684-f3376e852ce4",
        "_uuid": "e68900f5a852d4eceee0cb815ac7ad6f2279d59a",
        "trusted": false,
        "collapsed": true
      },
      "cell_type": "code",
      "source": "corr = np.corrcoef(matrix);corr[:5]",
      "execution_count": null,
      "outputs": []
    },
    {
      "metadata": {
        "_cell_guid": "a082eb4c-349b-4c0e-8c90-ae306bba39b8",
        "_uuid": "7df829fb48e7e23544507d10acb44cfe234c1359"
      },
      "cell_type": "markdown",
      "source": "# Find highly correlated movie id for the most popular movie"
    },
    {
      "metadata": {
        "_cell_guid": "8e1172ba-e32e-447d-ac3d-09d518ceb4ef",
        "_uuid": "8be1a81e300f3484b7cb680e179e1361ad00afc4",
        "trusted": false,
        "collapsed": true
      },
      "cell_type": "code",
      "source": "movie_296 = corr[296];movie_296.shape",
      "execution_count": null,
      "outputs": []
    },
    {
      "metadata": {
        "_cell_guid": "735e3839-9e17-411a-8416-241f9fa71817",
        "_uuid": "93cb0d5341426f8cd264c370acb20bda97fd195f",
        "trusted": false,
        "collapsed": true
      },
      "cell_type": "code",
      "source": "np.where((movie_296>0.9) & (movie_296 <1.0))",
      "execution_count": null,
      "outputs": []
    },
    {
      "metadata": {
        "_cell_guid": "86d29458-9c5c-43d1-92da-097a42c0889a",
        "_uuid": "856aadb4cae7c37772592db94c8501b7f6ba49e1"
      },
      "cell_type": "markdown",
      "source": "Here are all the lists for movie ids similiar to the most popular movie. Since in this dataset there is no titles for movie ids, otherwise I could display them."
    },
    {
      "metadata": {
        "_cell_guid": "42703428-fca4-4abe-9d39-bb8bb6e316cf",
        "_uuid": "6f4d14cd077661a6891bb5c386e48a4b70a9cf17"
      },
      "cell_type": "markdown",
      "source": "# Find the most active user as an example"
    },
    {
      "metadata": {
        "_cell_guid": "54d29ec7-80cf-4a08-9cc1-db44ecf6b1e1",
        "_uuid": "01fc87560ec5ad369f0632eaeea7413f9a6599d3",
        "trusted": false,
        "collapsed": true
      },
      "cell_type": "code",
      "source": "sub_df.groupby('userId')['movieId'].count().sort_values(ascending = False).head()",
      "execution_count": null,
      "outputs": []
    },
    {
      "metadata": {
        "_uuid": "39e2c13bd6baef24a995174081e7757bcbc72971"
      },
      "cell_type": "markdown",
      "source": "# Find the movies that user 156 watched "
    },
    {
      "metadata": {
        "collapsed": true,
        "_uuid": "dc4eeacdd9f3075752a203773a7e28a3e3d79f92",
        "trusted": false
      },
      "cell_type": "code",
      "source": "user_156 = sub_df[(sub_df['userId'] == 156)]['movieId']",
      "execution_count": null,
      "outputs": []
    },
    {
      "metadata": {
        "_uuid": "094dd660e07b05bf56167a49cbfc3ff59439e019"
      },
      "cell_type": "markdown",
      "source": "# Build user similiarity matrix"
    },
    {
      "metadata": {
        "_cell_guid": "637f48c1-e2cc-492c-a4fc-eed15194293a",
        "_uuid": "4f0e255b80a51c66b6709d34ebabaae7061ef7c3",
        "trusted": false,
        "collapsed": true
      },
      "cell_type": "code",
      "source": "user_matrix = SVD.fit_transform(cross_rate); user_matrix.shape",
      "execution_count": null,
      "outputs": []
    },
    {
      "metadata": {
        "_cell_guid": "3700a06b-e3dd-41a0-9630-f4d0f741b0ec",
        "_uuid": "65b937559e16d68c2c4d7cb3568f565c2bd77e26",
        "trusted": false,
        "collapsed": true
      },
      "cell_type": "code",
      "source": "corr = np.corrcoef(user_matrix)\nuser_156 = corr[156]\nnp.where((user_156>0.9) & (user_156 <1.0))",
      "execution_count": null,
      "outputs": []
    },
    {
      "metadata": {
        "_cell_guid": "969e273b-ea22-4dcc-b745-bc288ca1fccc",
        "_uuid": "47b87ec254fa5a80992b020dbf71e96260853559",
        "trusted": false,
        "collapsed": true
      },
      "cell_type": "code",
      "source": "fellow = (np.where((user_156>0.9) & (user_156 <1.0)))[0].tolist();fellow",
      "execution_count": null,
      "outputs": []
    },
    {
      "metadata": {
        "_cell_guid": "1fd3ef16-9290-4454-ba63-c91464e673c7",
        "_uuid": "cedaf14ae8f24970541cb01701b615b274db882c",
        "trusted": false,
        "collapsed": true
      },
      "cell_type": "code",
      "source": "sub_df[(sub_df['userId'] == 1) & (sub_df['rating']>4)]['movieId'].count()",
      "execution_count": null,
      "outputs": []
    },
    {
      "metadata": {
        "_uuid": "c116c5609d7ce3f36a45bd27362c839e95e324af"
      },
      "cell_type": "markdown",
      "source": "# Find the movies that user 156 hasn't wacthed but his similiar users love "
    },
    {
      "metadata": {
        "_cell_guid": "7ecf94c8-3b76-42c7-a394-8f61ee3229b8",
        "_uuid": "6b677dc35a7891fe0c3d64757d1004d1f31f8a94",
        "trusted": false,
        "collapsed": true
      },
      "cell_type": "code",
      "source": "movie_id = cross_rate.columns\nrecommend = list()\nfor i in fellow:\n    fellow_love = sub_df[(sub_df['userId'] == i) & (sub_df['rating']>4)]['movieId']\n    for love in fellow_love:\n        if love not in user_156: \n            recommend.append(love)\n",
      "execution_count": null,
      "outputs": []
    },
    {
      "metadata": {
        "_uuid": "f22dafa13d9a251ab368a276bf96aba63ab2f4a5",
        "trusted": false,
        "collapsed": true
      },
      "cell_type": "code",
      "source": "recommend",
      "execution_count": null,
      "outputs": []
    }
  ],
  "metadata": {
    "kernelspec": {
      "display_name": "Python 3",
      "language": "python",
      "name": "python3"
    },
    "language_info": {
      "name": "python",
      "version": "3.6.5",
      "mimetype": "text/x-python",
      "codemirror_mode": {
        "name": "ipython",
        "version": 3
      },
      "pygments_lexer": "ipython3",
      "nbconvert_exporter": "python",
      "file_extension": ".py"
    }
  },
  "nbformat": 4,
  "nbformat_minor": 1
}