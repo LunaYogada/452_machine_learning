{
 "cells": [
  {
   "cell_type": "markdown",
   "metadata": {},
   "source": [
    "# Association mining analysis"
   ]
  },
  {
   "cell_type": "markdown",
   "metadata": {},
   "source": [
    "## Convert to transactions data "
   ]
  },
  {
   "cell_type": "code",
   "execution_count": 1,
   "metadata": {},
   "outputs": [
    {
     "name": "stderr",
     "output_type": "stream",
     "text": [
      "Loading tidyverse: ggplot2\n",
      "Loading tidyverse: tibble\n",
      "Loading tidyverse: tidyr\n",
      "Loading tidyverse: readr\n",
      "Loading tidyverse: purrr\n",
      "Loading tidyverse: dplyr\n",
      "Conflicts with tidy packages ---------------------------------------------------\n",
      "filter(): dplyr, stats\n",
      "lag():    dplyr, stats\n",
      "\n",
      "Attaching package: 'lubridate'\n",
      "\n",
      "The following object is masked from 'package:base':\n",
      "\n",
      "    date\n",
      "\n",
      "Warning message:\n",
      "\"package 'arules' was built under R version 3.4.3\"Loading required package: Matrix\n",
      "\n",
      "Attaching package: 'Matrix'\n",
      "\n",
      "The following object is masked from 'package:tidyr':\n",
      "\n",
      "    expand\n",
      "\n",
      "\n",
      "Attaching package: 'arules'\n",
      "\n",
      "The following object is masked from 'package:dplyr':\n",
      "\n",
      "    recode\n",
      "\n",
      "The following objects are masked from 'package:base':\n",
      "\n",
      "    abbreviate, write\n",
      "\n",
      "Warning message:\n",
      "\"package 'arulesViz' was built under R version 3.4.3\"Loading required package: grid\n",
      "Loading required package: arulesSequences\n",
      "Warning message:\n",
      "\"package 'arulesSequences' was built under R version 3.4.3\""
     ]
    }
   ],
   "source": [
    "library(tidyverse)\n",
    "library(dplyr)\n",
    "library(stringr)\n",
    "library(lubridate)\n",
    "library(tidyr)\n",
    "library(arules)\n",
    "library(arulesViz)\n",
    "require(arulesSequences)"
   ]
  },
  {
   "cell_type": "code",
   "execution_count": 3,
   "metadata": {},
   "outputs": [
    {
     "data": {
      "text/html": [
       "<ol class=list-inline>\n",
       "\t<li>AECCOL</li>\n",
       "\t<li>PDCOLL</li>\n",
       "\t<li>MECOLL</li>\n",
       "</ol>\n"
      ],
      "text/latex": [
       "\\begin{enumerate*}\n",
       "\\item AECCOL\n",
       "\\item PDCOLL\n",
       "\\item MECOLL\n",
       "\\end{enumerate*}\n"
      ],
      "text/markdown": [
       "1. AECCOL\n",
       "2. PDCOLL\n",
       "3. MECOLL\n",
       "\n",
       "\n"
      ],
      "text/plain": [
       "[1] AECCOL PDCOLL MECOLL\n",
       "Levels: AECCOL MECOLL PDCOLL"
      ]
     },
     "metadata": {},
     "output_type": "display_data"
    }
   ],
   "source": [
    "load(\"dataset.RData\")\n",
    "all_collection <- unique(dataset$product_line_code)\n",
    "product_mon <- list()\n",
    "all_collection"
   ]
  },
  {
   "cell_type": "code",
   "execution_count": 5,
   "metadata": {
    "scrolled": false
   },
   "outputs": [
    {
     "name": "stdout",
     "output_type": "stream",
     "text": [
      "    items           \n",
      "[1] {3DSMAX,ACD,RVT}\n",
      "[2] {3DSMAX,ACD,RVT}\n",
      "[3] {3DSMAX,ACD,RVT}\n",
      "    items                         \n",
      "[1] {ACD,AMECH_PP,INVPROSA,NAVMAN}\n",
      "[2] {ACD,INVPROSA}                \n",
      "[3] {ACD,INVPROSA,NAVMAN}         \n",
      "    items              \n",
      "[1] {3DSMAX}           \n",
      "[2] {3DSMAX}           \n",
      "[3] {MAYA,MOBPRO,RECAP}\n"
     ]
    }
   ],
   "source": [
    "for(i in 1: length(all_collection)){\n",
    "    product_mon[[i]] <- dataset%>%\n",
    "    filter(product_line_code == all_collection[i])%>%\n",
    "    filter(!is.na(product_line_name))%>%\n",
    "    mutate(year_month = str_c(year(dt),\"-\",month(dt))) %>%\n",
    "    group_by(owner_id,product_line_name,year_month)%>%\n",
    "    summarise(use_of_product = sum(sessions))%>%\n",
    "    ungroup()%>%\n",
    "    group_by(owner_id, year_month)%>%\n",
    "    summarise(products = list(unique(product_line_name)))%>%\n",
    "    mutate(num_product = str_c(\"{\",map_chr(products,str_c,collapse = \",\"),\"}\"),\n",
    "           size = map_dbl(products,length))%>%\n",
    "    ungroup()%>%\n",
    "    group_by(owner_id)%>%\n",
    "    mutate(eid = 1:n())  \n",
    "    }\n",
    "\n",
    "aec_tran<-as(product_mon[[1]]$products, \"transactions\")\n",
    "inspect(head(aec_tran,3))\n",
    "\n",
    "pdc_tran<-as(product_mon[[2]]$products, \"transactions\")\n",
    "inspect(head(pdc_tran,3))\n",
    "\n",
    "mec_tran<-as(product_mon[[3]]$products, \"transactions\")\n",
    "inspect(head(mec_tran,3))"
   ]
  },
  {
   "cell_type": "markdown",
   "metadata": {
    "collapsed": true
   },
   "source": [
    "## The most frequent items "
   ]
  },
  {
   "cell_type": "markdown",
   "metadata": {},
   "source": [
    "### AEC collection"
   ]
  },
  {
   "cell_type": "code",
   "execution_count": 6,
   "metadata": {
    "scrolled": false
   },
   "outputs": [
    {
     "name": "stdout",
     "output_type": "stream",
     "text": [
      "Eclat\n",
      "\n",
      "parameter specification:\n",
      " tidLists support minlen maxlen            target   ext\n",
      "    FALSE    0.01      1     15 frequent itemsets FALSE\n",
      "\n",
      "algorithmic control:\n",
      " sparse sort verbose\n",
      "      7   -2    TRUE\n",
      "\n",
      "Absolute minimum support count: 1221 \n",
      "\n",
      "create itemset ... \n",
      "set transactions ...[26 item(s), 122119 transaction(s)] done [0.02s].\n",
      "sorting and recoding items ... [13 item(s)] done [0.00s].\n",
      "creating bit matrix ... [13 row(s), 122119 column(s)] done [0.01s].\n",
      "writing  ... [97 set(s)] done [0.00s].\n",
      "Creating S4 object  ... done [0.00s].\n",
      "     items                     support    count\n",
      "[1]  {ACD,PNID}                0.01066173  1302\n",
      "[2]  {ACAD_E,ACD,RVT}          0.01097290  1340\n",
      "[3]  {ACAD_E,RVT}              0.01357692  1658\n",
      "[4]  {ACAD_E,ACD}              0.01544395  1886\n",
      "[5]  {CIV3D,RECAP,RVT}         0.01016222  1241\n",
      "[6]  {ACD,NAVMAN,RECAP,RVT}    0.01257790  1536\n",
      "[7]  {NAVMAN,RECAP,RVT}        0.01620550  1979\n",
      "[8]  {ACD,NAVMAN,RECAP}        0.01478066  1805\n",
      "[9]  {ACD,RECAP,RVT}           0.02041451  2493\n",
      "[10] {RECAP,RVT}               0.02833302  3460\n",
      "[11] {ACD,RECAP}               0.02583546  3155\n",
      "[12] {NAVMAN,RECAP}            0.02020161  2467\n",
      "[13] {CIV3D,RECAP}             0.01469059  1794\n",
      "[14] {ACD,CIV3D,MAP,RVT}       0.01132502  1383\n",
      "[15] {CIV3D,MAP,RVT}           0.01391266  1699\n",
      "[16] {ACD,CIV3D,MAP}           0.01731098  2114\n",
      "[17] {ACD,MAP,RVT}             0.01585339  1936\n",
      "[18] {MAP,RVT}                 0.02070931  2529\n",
      "[19] {ACD,MAP}                 0.02500839  3054\n",
      "[20] {MAP,NAVMAN}              0.01003939  1226\n",
      "[21] {CIV3D,MAP}               0.02561436  3128\n",
      "[22] {3DSMAX,MAP}              0.01015403  1240\n",
      "[23] {ACD,CIV3D,PLNT3D}        0.01035056  1264\n",
      "[24] {ACD,NAVMAN,PLNT3D,RVT}   0.01166076  1424\n",
      "[25] {NAVMAN,PLNT3D,RVT}       0.01392085  1700\n",
      "[26] {ACD,NAVMAN,PLNT3D}       0.02025893  2474\n",
      "[27] {ACD,PLNT3D,RVT}          0.01804797  2204\n",
      "[28] {PLNT3D,RVT}              0.02286295  2792\n",
      "[29] {ACD,PLNT3D}              0.03518699  4297\n",
      "[30] {NAVMAN,PLNT3D}           0.02803823  3424\n",
      "[31] {CIV3D,PLNT3D}            0.01329032  1623\n",
      "[32] {BLDSYS,PLNT3D}           0.01056347  1290\n",
      "[33] {ARCHDESK,BLDSYS,RVT}     0.01158706  1415\n",
      "[34] {ACD,ARCHDESK,BLDSYS}     0.01097290  1340\n",
      "[35] {BLDSYS,CIV3D,RVT}        0.01062079  1297\n",
      "[36] {ACD,BLDSYS,NAVMAN,RVT}   0.01653305  2019\n",
      "[37] {BLDSYS,NAVMAN,RVT}       0.02775162  3389\n",
      "[38] {ACD,BLDSYS,NAVMAN}       0.01868669  2282\n",
      "[39] {ACD,BLDSYS,RVT}          0.02961865  3617\n",
      "[40] {BLDSYS,RVT}              0.05359526  6545\n",
      "[41] {ACD,BLDSYS}              0.03657089  4466\n",
      "[42] {BLDSYS,NAVMAN}           0.03383585  4132\n",
      "[43] {BLDSYS,CIV3D}            0.01267616  1548\n",
      "[44] {ARCHDESK,BLDSYS}         0.01409281  1721\n",
      "[45] {3DSMAX,ACD,ARCHDESK,RVT} 0.01433028  1750\n",
      "[46] {3DSMAX,ARCHDESK,RVT}     0.02146267  2621\n",
      "[47] {3DSMAX,ACD,ARCHDESK}     0.01616456  1974\n",
      "[48] {ACD,ARCHDESK,CIV3D,RVT}  0.01193917  1458\n",
      "[49] {ARCHDESK,CIV3D,RVT}      0.01604173  1959\n",
      "[50] {ACD,ARCHDESK,CIV3D}      0.01460870  1784\n",
      "[51] {ACD,ARCHDESK,NAVMAN,RVT} 0.01504270  1837\n",
      "[52] {ARCHDESK,NAVMAN,RVT}     0.02092222  2555\n",
      "[53] {ACD,ARCHDESK,NAVMAN}     0.01645936  2010\n",
      "[54] {ACD,ARCHDESK,RVT}        0.04492339  5486\n",
      "[55] {ARCHDESK,RVT}            0.09361361 11432\n",
      "[56] {ACD,ARCHDESK}            0.05837748  7129\n",
      "[57] {ARCHDESK,NAVMAN}         0.02335427  2852\n",
      "[58] {ARCHDESK,CIV3D}          0.02182298  2665\n",
      "[59] {3DSMAX,ARCHDESK}         0.02652331  3239\n",
      "[60] {3DSMAX,CIV3D,NAVMAN,RVT} 0.01144785  1398\n",
      "[61] {3DSMAX,ACD,CIV3D,NAVMAN} 0.01061260  1296\n",
      "[62] {3DSMAX,ACD,CIV3D,RVT}    0.01596803  1950\n",
      "[63] {3DSMAX,CIV3D,RVT}        0.01930903  2358\n",
      "[64] {3DSMAX,ACD,CIV3D}        0.01912069  2335\n",
      "[65] {3DSMAX,CIV3D,NAVMAN}     0.01261884  1541\n",
      "[66] {3DSMAX,ACD,NAVMAN,RVT}   0.02563893  3131\n",
      "[67] {3DSMAX,NAVMAN,RVT}       0.03043752  3717\n",
      "[68] {3DSMAX,ACD,NAVMAN}       0.02775981  3390\n",
      "[69] {3DSMAX,ACD,RVT}          0.06645158  8115\n",
      "[70] {3DSMAX,RVT}              0.08370524 10222\n",
      "[71] {3DSMAX,ACD}              0.08492536 10371\n",
      "[72] {3DSMAX,NAVMAN}           0.03388498  4138\n",
      "[73] {3DSMAX,CIV3D}            0.02515579  3072\n",
      "[74] {ACD,CIV3D,NAVMAN,RVT}    0.02425503  2962\n",
      "[75] {CIV3D,NAVMAN,RVT}        0.03069956  3749\n",
      "[76] {ACD,CIV3D,NAVMAN}        0.02807917  3429\n",
      "[77] {ACD,CIV3D,RVT}           0.05474169  6685\n",
      "[78] {CIV3D,RVT}               0.07730165  9440\n",
      "[79] {ACD,CIV3D}               0.08721002 10650\n",
      "[80] {CIV3D,NAVMAN}            0.03808580  4651\n",
      "[81] {ACD,NAVMAN,RVT}          0.11594428 14159\n",
      "[82] {NAVMAN,RVT}              0.15808351 19305\n",
      "[83] {ACD,NAVMAN}              0.14121472 17245\n",
      "[84] {ACD,RVT}                 0.41010817 50082\n",
      "[85] {RVT}                     0.62720789 76594\n",
      "[86] {ACD}                     0.62787936 76676\n",
      "[87] {NAVMAN}                  0.21066337 25726\n",
      "[88] {CIV3D}                   0.17643446 21546\n",
      "[89] {3DSMAX}                  0.11512541 14059\n",
      "[90] {ARCHDESK}                0.14165691 17299\n",
      "[91] {BLDSYS}                  0.07464031  9115\n",
      "[92] {PLNT3D}                  0.05514293  6734\n",
      "[93] {MAP}                     0.04056699  4954\n",
      "[94] {RECAP}                   0.04103375  5011\n",
      "[95] {ACAD_E}                  0.02161826  2640\n",
      "[96] {PNID}                    0.01498538  1830\n",
      "[97] {NAVSIM}                  0.01062898  1298\n"
     ]
    },
    {
     "data": {
      "image/png": "[encoded data removed]",
      "text/plain": [
       "Plot with title \"Product Combo Frequency\""
      ]
     },
     "metadata": {},
     "output_type": "display_data"
    }
   ],
   "source": [
    "frequentItems<-eclat(aec_tran, parameter = list(support = 0.01, maxlen = 15))\n",
    "inspect(frequentItems)\n",
    "\n",
    "itemFrequencyPlot(aec_tran, topN=10, support = 0.01, main=\"Product Combo Frequency\")               "
   ]
  },
  {
   "cell_type": "markdown",
   "metadata": {},
   "source": [
    "### PDC collection"
   ]
  },
  {
   "cell_type": "code",
   "execution_count": 10,
   "metadata": {
    "scrolled": false
   },
   "outputs": [
    {
     "name": "stdout",
     "output_type": "stream",
     "text": [
      "Eclat\n",
      "\n",
      "parameter specification:\n",
      " tidLists support minlen maxlen            target   ext\n",
      "    FALSE    0.01      1     15 frequent itemsets FALSE\n",
      "\n",
      "algorithmic control:\n",
      " sparse sort verbose\n",
      "      7   -2    TRUE\n",
      "\n",
      "Absolute minimum support count: 581 \n",
      "\n",
      "create itemset ... \n",
      "set transactions ...[17 item(s), 58152 transaction(s)] done [0.01s].\n",
      "sorting and recoding items ... [9 item(s)] done [0.00s].\n",
      "creating bit matrix ... [9 row(s), 58152 column(s)] done [0.00s].\n",
      "writing  ... [70 set(s)] done [0.00s].\n",
      "Creating S4 object  ... done [0.00s].\n",
      "     items                               support    count\n",
      "[1]  {ACD,INVPROSA,RECAP}                0.01048975   610\n",
      "[2]  {AMECH_PP,INVPROSA,RECAP}           0.01064452   619\n",
      "[3]  {INVPROSA,RECAP}                    0.01855482  1079\n",
      "[4]  {AMECH_PP,RECAP}                    0.01145274   666\n",
      "[5]  {ACD,RECAP}                         0.01167630   679\n",
      "[6]  {ACD,INVNTOR,INVPROSA}              0.01238135   720\n",
      "[7]  {AMECH_PP,INVNTOR,INVPROSA}         0.01501238   873\n",
      "[8]  {INVNTOR,INVPROSA}                  0.02543335  1479\n",
      "[9]  {AMECH_PP,INVNTOR}                  0.02553652  1485\n",
      "[10] {ACD,INVNTOR}                       0.02058399  1197\n",
      "[11] {ARCHDESK,INVPROSA,NAVMAN}          0.01296602   754\n",
      "[12] {ACAD_E,ACD,ARCHDESK,INVPROSA}      0.01009424   587\n",
      "[13] {ACAD_E,AMECH_PP,ARCHDESK,INVPROSA} 0.01177947   685\n",
      "[14] {ACAD_E,ARCHDESK,INVPROSA}          0.01408378   819\n",
      "[15] {ACAD_E,AMECH_PP,ARCHDESK}          0.01265649   736\n",
      "[16] {ACAD_E,ACD,ARCHDESK}               0.01083368   630\n",
      "[17] {3DSMAX,ARCHDESK,INVPROSA}          0.01260490   733\n",
      "[18] {ACD,AMECH_PP,ARCHDESK,INVPROSA}    0.01441051   838\n",
      "[19] {ACD,ARCHDESK,INVPROSA}             0.02560531  1489\n",
      "[20] {ACD,AMECH_PP,ARCHDESK}             0.01582061   920\n",
      "[21] {AMECH_PP,ARCHDESK,INVPROSA}        0.02545054  1480\n",
      "[22] {ARCHDESK,INVPROSA}                 0.04347228  2528\n",
      "[23] {AMECH_PP,ARCHDESK}                 0.02844270  1654\n",
      "[24] {ACD,ARCHDESK}                      0.03029990  1762\n",
      "[25] {3DSMAX,ARCHDESK}                   0.01451369   844\n",
      "[26] {ACAD_E,ARCHDESK}                   0.01535631   893\n",
      "[27] {ARCHDESK,NAVMAN}                   0.01396341   812\n",
      "[28] {ACAD_E,INVPROSA,NAVMAN}            0.01016302   591\n",
      "[29] {3DSMAX,INVPROSA,NAVMAN}            0.01315518   765\n",
      "[30] {3DSMAX,AMECH_PP,NAVMAN}            0.01038657   604\n",
      "[31] {ACD,AMECH_PP,INVPROSA,NAVMAN}      0.01492640   868\n",
      "[32] {ACD,INVPROSA,NAVMAN}               0.02871784  1670\n",
      "[33] {ACD,AMECH_PP,NAVMAN}               0.01570023   913\n",
      "[34] {AMECH_PP,INVPROSA,NAVMAN}          0.03224309  1875\n",
      "[35] {INVPROSA,NAVMAN}                   0.04990370  2902\n",
      "[36] {AMECH_PP,NAVMAN}                   0.03480534  2024\n",
      "[37] {ACD,NAVMAN}                        0.03277617  1906\n",
      "[38] {3DSMAX,NAVMAN}                     0.01410098   820\n",
      "[39] {ACAD_E,NAVMAN}                     0.01083368   630\n",
      "[40] {3DSMAX,ACAD_E,AMECH_PP,INVPROSA}   0.01059293   616\n",
      "[41] {3DSMAX,ACAD_E,INVPROSA}            0.01293163   752\n",
      "[42] {3DSMAX,ACAD_E,AMECH_PP}            0.01121200   652\n",
      "[43] {ACAD_E,ACD,AMECH_PP,INVPROSA}      0.01953501  1136\n",
      "[44] {ACAD_E,ACD,INVPROSA}               0.03115972  1812\n",
      "[45] {ACAD_E,ACD,AMECH_PP}               0.02103109  1223\n",
      "[46] {ACAD_E,AMECH_PP,INVPROSA}          0.03891526  2263\n",
      "[47] {ACAD_E,INVPROSA}                   0.06156280  3580\n",
      "[48] {ACAD_E,AMECH_PP}                   0.04326592  2516\n",
      "[49] {ACAD_E,ACD}                        0.03518366  2046\n",
      "[50] {3DSMAX,ACAD_E}                     0.01379144   802\n",
      "[51] {3DSMAX,ACD,AMECH_PP,INVPROSA}      0.01556266   905\n",
      "[52] {3DSMAX,ACD,INVPROSA}               0.03655936  2126\n",
      "[53] {3DSMAX,ACD,AMECH_PP}               0.01698996   988\n",
      "[54] {3DSMAX,AMECH_PP,INVPROSA}          0.03269019  1901\n",
      "[55] {3DSMAX,INVPROSA}                   0.06197551  3604\n",
      "[56] {3DSMAX,AMECH_PP}                   0.03624983  2108\n",
      "[57] {3DSMAX,ACD}                        0.05071193  2949\n",
      "[58] {ACD,AMECH_PP,INVPROSA}             0.09518159  5535\n",
      "[59] {ACD,INVPROSA}                      0.32408172 18846\n",
      "[60] {ACD,AMECH_PP}                      0.10625602  6179\n",
      "[61] {AMECH_PP,INVPROSA}                 0.39505090 22973\n",
      "[62] {INVPROSA}                          0.81568992 47434\n",
      "[63] {AMECH_PP}                          0.46228849 26883\n",
      "[64] {ACD}                               0.42306370 24602\n",
      "[65] {3DSMAX}                            0.08510455  4949\n",
      "[66] {ACAD_E}                            0.07528546  4378\n",
      "[67] {NAVMAN}                            0.05875980  3417\n",
      "[68] {ARCHDESK}                          0.05554409  3230\n",
      "[69] {INVNTOR}                           0.04925024  2864\n",
      "[70] {RECAP}                             0.02202848  1281\n"
     ]
    },
    {
     "data": {
      "image/png": "[encoded data removed]",
      "text/plain": [
       "Plot with title \"Product Combo Frequency\""
      ]
     },
     "metadata": {},
     "output_type": "display_data"
    }
   ],
   "source": [
    "frequentItems<-eclat(pdc_tran, parameter = list(support = 0.01, maxlen = 15))\n",
    "inspect(frequentItems)\n",
    "\n",
    "itemFrequencyPlot(pdc_tran, topN=10, support = 0.01, main=\"Product Combo Frequency\")               "
   ]
  },
  {
   "cell_type": "markdown",
   "metadata": {},
   "source": [
    "### MEC collection "
   ]
  },
  {
   "cell_type": "code",
   "execution_count": 11,
   "metadata": {},
   "outputs": [
    {
     "name": "stdout",
     "output_type": "stream",
     "text": [
      "Eclat\n",
      "\n",
      "parameter specification:\n",
      " tidLists support minlen maxlen            target   ext\n",
      "    FALSE    0.01      1     15 frequent itemsets FALSE\n",
      "\n",
      "algorithmic control:\n",
      " sparse sort verbose\n",
      "      7   -2    TRUE\n",
      "\n",
      "Absolute minimum support count: 33 \n",
      "\n",
      "create itemset ... \n",
      "set transactions ...[8 item(s), 3324 transaction(s)] done [0.00s].\n",
      "sorting and recoding items ... [5 item(s)] done [0.00s].\n",
      "creating bit matrix ... [5 row(s), 3324 column(s)] done [0.00s].\n",
      "writing  ... [17 set(s)] done [0.00s].\n",
      "Creating S4 object  ... done [0.00s].\n",
      "     items                support    count\n",
      "[1]  {3DSMAX,MAYA,RECAP}  0.01564380   52 \n",
      "[2]  {MAYA,RECAP}         0.01925391   64 \n",
      "[3]  {3DSMAX,RECAP}       0.01925391   64 \n",
      "[4]  {MAYA,MBXPRO,MOBPRO} 0.01022864   34 \n",
      "[5]  {3DSMAX,MAYA,MBXPRO} 0.01744886   58 \n",
      "[6]  {MAYA,MBXPRO}        0.02587244   86 \n",
      "[7]  {3DSMAX,MBXPRO}      0.02075812   69 \n",
      "[8]  {MBXPRO,MOBPRO}      0.01113117   37 \n",
      "[9]  {3DSMAX,MAYA,MOBPRO} 0.01925391   64 \n",
      "[10] {MAYA,MOBPRO}        0.03459687  115 \n",
      "[11] {3DSMAX,MOBPRO}      0.02346570   78 \n",
      "[12] {3DSMAX,MAYA}        0.40373045 1342 \n",
      "[13] {MAYA}               0.75391095 2506 \n",
      "[14] {3DSMAX}             0.64290012 2137 \n",
      "[15] {MOBPRO}             0.04121540  137 \n",
      "[16] {MBXPRO}             0.03068592  102 \n",
      "[17] {RECAP}              0.02617329   87 \n"
     ]
    },
    {
     "data": {
      "image/png": "[encoded data removed]",
      "text/plain": [
       "Plot with title \"Product Combo Frequency\""
      ]
     },
     "metadata": {},
     "output_type": "display_data"
    }
   ],
   "source": [
    "frequentItems<-eclat(mec_tran, parameter = list(support = 0.01, maxlen = 15))\n",
    "inspect(frequentItems)\n",
    "\n",
    "itemFrequencyPlot(mec_tran, topN=10, support = 0.01, main=\"Product Combo Frequency\")               "
   ]
  },
  {
   "cell_type": "markdown",
   "metadata": {},
   "source": [
    "## Product recommendation rules"
   ]
  },
  {
   "cell_type": "markdown",
   "metadata": {},
   "source": [
    "Rules: A -> B\n",
    "\n",
    "support: P(A∩B)\n",
    "The probability of products both in A and B happened to be used, specifically, the percentage of occurance for A and B together occupied in all usage.\n",
    "\n",
    "confidence: P(A∩B)/P(A)\n",
    "The probability that A and B happened when A happened.\n",
    "\n",
    "Lift: P(A∩B)/(P(A)*P(B))\n",
    "The ratio of probability that A and B happened together over the probability that only B happened."
   ]
  },
  {
   "cell_type": "markdown",
   "metadata": {},
   "source": [
    "### AEC collection "
   ]
  },
  {
   "cell_type": "code",
   "execution_count": 7,
   "metadata": {
    "scrolled": false
   },
   "outputs": [
    {
     "name": "stdout",
     "output_type": "stream",
     "text": [
      "Apriori\n",
      "\n",
      "Parameter specification:\n",
      " confidence minval smax arem  aval originalSupport maxtime support minlen\n",
      "        0.5    0.1    1 none FALSE            TRUE       5    0.01      1\n",
      " maxlen target   ext\n",
      "     10  rules FALSE\n",
      "\n",
      "Algorithmic control:\n",
      " filter tree heap memopt load sort verbose\n",
      "    0.1 TRUE TRUE  FALSE TRUE    2    TRUE\n",
      "\n",
      "Absolute minimum support count: 1221 \n",
      "\n",
      "set item appearances ...[0 item(s)] done [0.00s].\n",
      "set transactions ...[26 item(s), 122119 transaction(s)] done [0.03s].\n",
      "sorting and recoding items ... [13 item(s)] done [0.00s].\n",
      "creating transaction tree ... done [0.06s].\n",
      "checking subsets of size 1 2 3 4 5 done [0.00s].\n",
      "writing ... [98 rule(s)] done [0.00s].\n",
      "creating S4 object  ... done [0.01s].\n"
     ]
    }
   ],
   "source": [
    "aec_rules<-apriori(aec_tran,\n",
    "               parameter = list(support= 0.01, confidence = 0.5))"
   ]
  },
  {
   "cell_type": "code",
   "execution_count": 8,
   "metadata": {},
   "outputs": [
    {
     "name": "stdout",
     "output_type": "stream",
     "text": [
      "     lhs                      rhs      support    confidence lift      count\n",
      "[1]  {3DSMAX,ACD,NAVMAN}   => {RVT}    0.02563893 0.9235988  1.4725561  3131\n",
      "[2]  {ACD,ARCHDESK,NAVMAN} => {RVT}    0.01504270 0.9139303  1.4571410  1837\n",
      "[3]  {3DSMAX,CIV3D,NAVMAN} => {RVT}    0.01144785 0.9072031  1.4464153  1398\n",
      "[4]  {3DSMAX,NAVMAN}       => {RVT}    0.03043752 0.8982600  1.4321568  3717\n",
      "[5]  {ARCHDESK,NAVMAN}     => {RVT}    0.02092222 0.8958626  1.4283343  2555\n",
      "[6]  {3DSMAX,ACD,ARCHDESK} => {RVT}    0.01433028 0.8865248  1.4134465  1750\n",
      "[7]  {ACD,BLDSYS,NAVMAN}   => {RVT}    0.01653305 0.8847502  1.4106172  2019\n",
      "[8]  {ACD,CIV3D,NAVMAN}    => {RVT}    0.02425503 0.8638087  1.3772287  2962\n",
      "[9]  {ACD,NAVMAN,RECAP}    => {RVT}    0.01257790 0.8509695  1.3567583  1536\n",
      "[10] {3DSMAX,NAVMAN,RVT}   => {ACD}    0.02563893 0.8423460  1.3415730  3131\n",
      "[11] {3DSMAX,CIV3D,NAVMAN} => {ACD}    0.01061260 0.8410123  1.3394489  1296\n",
      "[12] {BLDSYS,CIV3D}        => {RVT}    0.01062079 0.8378553  1.3358494  1297\n",
      "[13] {NAVMAN,PLNT3D,RVT}   => {ACD}    0.01166076 0.8376471  1.3340892  1424\n",
      "[14] {3DSMAX,ACD,CIV3D}    => {RVT}    0.01596803 0.8351178  1.3314848  1950\n",
      "[15] {3DSMAX,CIV3D,RVT}    => {ACD}    0.01596803 0.8269720  1.3170874  1950\n",
      "[16] {ARCHDESK,BLDSYS}     => {RVT}    0.01158706 0.8221964  1.3108834  1415\n",
      "[17] {ACD,NAVMAN}          => {RVT}    0.11594428 0.8210496  1.3090549 14159\n",
      "[18] {BLDSYS,NAVMAN}       => {RVT}    0.02775162 0.8201839  1.3076748  3389\n",
      "[19] {3DSMAX,NAVMAN}       => {ACD}    0.02775981 0.8192363  1.3047671  3390\n",
      "[20] {ACD,ARCHDESK,CIV3D}  => {RVT}    0.01193917 0.8172646  1.3030202  1458\n",
      "[21] {CIV3D,MAP,RVT}       => {ACD}    0.01132502 0.8140082  1.2964405  1383\n",
      "[22] {ACD,BLDSYS}          => {RVT}    0.02961865 0.8098970  1.2912736  3617\n",
      "[23] {3DSMAX,ARCHDESK}     => {RVT}    0.02146267 0.8092004  1.2901629  2621\n",
      "[24] {ACAD_E,RVT}          => {ACD}    0.01097290 0.8082027  1.2871942  1340\n",
      "[25] {CIV3D,NAVMAN}        => {RVT}    0.03069956 0.8060632  1.2851612  3749\n",
      "[26] {NAVMAN,RECAP}        => {RVT}    0.01620550 0.8021889  1.2789841  1979\n",
      "[27] {3DSMAX,RVT}          => {ACD}    0.06645158 0.7938760  1.2643766  8115\n",
      "[28] {ACD,RECAP}           => {RVT}    0.02041451 0.7901743  1.2598284  2493\n",
      "[29] {CIV3D,NAVMAN,RVT}    => {ACD}    0.02425503 0.7900774  1.2583267  2962\n",
      "[30] {PLNT3D,RVT}          => {ACD}    0.01804797 0.7893983  1.2572451  2204\n",
      "[31] {3DSMAX,ACD}          => {RVT}    0.06645158 0.7824704  1.2475455  8115\n",
      "[32] {CIV3D,PLNT3D}        => {ACD}    0.01035056 0.7788047  1.2403731  1264\n",
      "[33] {ARCHDESK,BLDSYS}     => {ACD}    0.01097290 0.7786171  1.2400743  1340\n",
      "[34] {NAVMAN,RECAP,RVT}    => {ACD}    0.01257790 0.7761496  1.2361444  1536\n",
      "[35] {ACD,ARCHDESK}        => {RVT}    0.04492339 0.7695329  1.2269184  5486\n",
      "[36] {3DSMAX,CIV3D}        => {RVT}    0.01930903 0.7675781  1.2238018  2358\n",
      "[37] {MAP,RVT}             => {ACD}    0.01585339 0.7655200  1.2192150  1936\n",
      "[38] {3DSMAX,CIV3D}        => {ACD}    0.01912069 0.7600911  1.2105688  2335\n",
      "[39] {NAVMAN}              => {RVT}    0.15808351 0.7504081  1.1964265 19305\n",
      "[40] {ARCHDESK,CIV3D,RVT}  => {ACD}    0.01193917 0.7442573  1.1853507  1458\n",
      "[41] {3DSMAX}              => {ACD}    0.08492536 0.7376769  1.1748705 10371\n",
      "[42] {CIV3D,NAVMAN}        => {ACD}    0.02807917 0.7372608  1.1742077  3429\n",
      "[43] {ARCHDESK,CIV3D}      => {RVT}    0.01604173 0.7350844  1.1719949  1959\n",
      "[44] {NAVMAN,RVT}          => {ACD}    0.11594428 0.7334369  1.1681176 14159\n",
      "[45] {NAVMAN,RECAP}        => {ACD}    0.01478066 0.7316579  1.1652842  1805\n",
      "[46] {3DSMAX}              => {RVT}    0.08370524 0.7270787  1.1592309 10222\n",
      "[47] {NAVMAN,PLNT3D}       => {ACD}    0.02025893 0.7225467  1.1507732  2474\n",
      "[48] {RECAP,RVT}           => {ACD}    0.02041451 0.7205202  1.1475456  2493\n",
      "[49] {ARCHDESK,NAVMAN,RVT} => {ACD}    0.01504270 0.7189824  1.1450964  1837\n",
      "[50] {BLDSYS}              => {RVT}    0.05359526 0.7180472  1.1448312  6545\n",
      "[51] {ACAD_E}              => {ACD}    0.01544395 0.7143939  1.1377885  1886\n",
      "[52] {ACD,MAP,RVT}         => {CIV3D}  0.01132502 0.7143595  4.0488661  1383\n",
      "[53] {PNID}                => {ACD}    0.01066173 0.7114754  1.1331403  1302\n",
      "[54] {ACAD_E,ACD}          => {RVT}    0.01097290 0.7104984  1.1327957  1340\n",
      "[55] {CIV3D,RVT}           => {ACD}    0.05474169 0.7081568  1.1278548  6685\n",
      "[56] {ARCHDESK,NAVMAN}     => {ACD}    0.01645936 0.7047686  1.1224586  2010\n",
      "[57] {ACD,MAP}             => {CIV3D}  0.01731098 0.6922069  3.9233092  2114\n",
      "[58] {CIV3D,RECAP}         => {RVT}    0.01016222 0.6917503  1.1029043  1241\n",
      "[59] {RECAP}               => {RVT}    0.02833302 0.6904809  1.1008805  3460\n",
      "[60] {CIV3D,MAP}           => {ACD}    0.01731098 0.6758312  1.0763711  2114\n",
      "[61] {MAP,RVT}             => {CIV3D}  0.01391266 0.6718070  3.8076861  1699\n",
      "[62] {NAVMAN}              => {ACD}    0.14121472 0.6703335  1.0676151 17245\n",
      "[63] {ARCHDESK,CIV3D}      => {ACD}    0.01460870 0.6694184  1.0661576  1784\n",
      "[64] {3DSMAX,ARCHDESK,RVT} => {ACD}    0.01433028 0.6676841  1.0633955  1750\n",
      "[65] {ARCHDESK}            => {RVT}    0.09361361 0.6608474  1.0536338 11432\n",
      "[66] {ACD,CIV3D,MAP}       => {RVT}    0.01132502 0.6542100  1.0430513  1383\n",
      "[67] {RVT}                 => {ACD}    0.41010817 0.6538632  1.0413835 50082\n",
      "[68] {ACD}                 => {RVT}    0.41010817 0.6531640  1.0413835 50082\n",
      "[69] {ACD,PLNT3D,RVT}      => {NAVMAN} 0.01166076 0.6460980  3.0669689  1424\n",
      "[70] {PLNT3D}              => {ACD}    0.03518699 0.6381051  1.0162862  4297\n",
      "[71] {ACD,MAP}             => {RVT}    0.01585339 0.6339227  1.0107059  1936\n",
      "[72] {MAP}                 => {CIV3D}  0.02561436 0.6314090  3.5787167  3128\n",
      "[73] {RECAP}               => {ACD}    0.02583546 0.6296148  1.0027640  3155\n",
      "[74] {ACAD_E}              => {RVT}    0.01357692 0.6280303  1.0013112  1658\n",
      "[75] {}                    => {ACD}    0.62787936 0.6278794  1.0000000 76676\n",
      "[76] {ACD,CIV3D}           => {RVT}    0.05474169 0.6276995  1.0007839  6685\n",
      "[77] {}                    => {RVT}    0.62720789 0.6272079  1.0000000 76594\n",
      "[78] {MAP}                 => {ACD}    0.02500839 0.6164715  0.9818312  3054\n",
      "[79] {ACD,RECAP,RVT}       => {NAVMAN} 0.01257790 0.6161252  2.9246905  1536\n",
      "[80] {3DSMAX,ARCHDESK}     => {ACD}    0.01616456 0.6094474  0.9706440  1974\n",
      "[81] {PLNT3D,RVT}          => {NAVMAN} 0.01392085 0.6088825  2.8903104  1700\n",
      "[82] {BLDSYS,NAVMAN,RVT}   => {ACD}    0.01653305 0.5957510  0.9488303  2019\n",
      "[83] {3DSMAX,CIV3D,RVT}    => {NAVMAN} 0.01144785 0.5928753  2.8143256  1398\n",
      "[84] {ACD,PLNT3D}          => {NAVMAN} 0.02025893 0.5757505  2.7330358  2474\n",
      "[85] {ACD,NAVMAN,PLNT3D}   => {RVT}    0.01166076 0.5755861  0.9176959  1424\n",
      "[86] {ACD,RECAP}           => {NAVMAN} 0.01478066 0.5721078  2.7157439  1805\n",
      "[87] {RECAP,RVT}           => {NAVMAN} 0.01620550 0.5719653  2.7150677  1979\n",
      "[88] {ACD,BLDSYS,RVT}      => {NAVMAN} 0.01653305 0.5581974  2.6497127  2019\n",
      "[89] {3DSMAX,ACD,CIV3D}    => {NAVMAN} 0.01061260 0.5550321  2.6346874  1296\n",
      "[90] {BLDSYS,RVT}          => {ACD}    0.02961865 0.5526356  0.8801621  3617\n",
      "[91] {BLDSYS,NAVMAN}       => {ACD}    0.01868669 0.5522749  0.8795876  2282\n",
      "[92] {CIV3D,MAP}           => {RVT}    0.01391266 0.5431586  0.8659945  1699\n",
      "[93] {BLDSYS,RVT}          => {NAVMAN} 0.02775162 0.5177998  2.4579491  3389\n",
      "[94] {ACD,PLNT3D}          => {RVT}    0.01804797 0.5129160  0.8177767  2204\n",
      "[95] {ACD,BLDSYS}          => {NAVMAN} 0.01868669 0.5109718  2.4255370  2282\n",
      "[96] {MAP}                 => {RVT}    0.02070931 0.5104966  0.8139192  2529\n",
      "[97] {PLNT3D}              => {NAVMAN} 0.02803823 0.5084645  2.4136351  3424\n",
      "[98] {3DSMAX,CIV3D}        => {NAVMAN} 0.01261884 0.5016276  2.3811810  1541\n"
     ]
    }
   ],
   "source": [
    "aec_rules_conf <- sort (aec_rules, by=\"confidence\", decreasing=TRUE)\n",
    "inspect(aec_rules_conf)"
   ]
  },
  {
   "cell_type": "markdown",
   "metadata": {},
   "source": [
    "The rules with confidence of 0.9235 (see rules_conf above) imply that, whenever the LHS item was used, the RHS item was also used 92.35% of the time."
   ]
  },
  {
   "cell_type": "code",
   "execution_count": 12,
   "metadata": {},
   "outputs": [
    {
     "name": "stdout",
     "output_type": "stream",
     "text": [
      "     lhs                   rhs      support    confidence lift     count\n",
      "[1]  {ACD,MAP,RVT}      => {CIV3D}  0.01132502 0.7143595  4.048866 1383 \n",
      "[2]  {ACD,MAP}          => {CIV3D}  0.01731098 0.6922069  3.923309 2114 \n",
      "[3]  {MAP,RVT}          => {CIV3D}  0.01391266 0.6718070  3.807686 1699 \n",
      "[4]  {MAP}              => {CIV3D}  0.02561436 0.6314090  3.578717 3128 \n",
      "[5]  {ACD,PLNT3D,RVT}   => {NAVMAN} 0.01166076 0.6460980  3.066969 1424 \n",
      "[6]  {ACD,RECAP,RVT}    => {NAVMAN} 0.01257790 0.6161252  2.924690 1536 \n",
      "[7]  {PLNT3D,RVT}       => {NAVMAN} 0.01392085 0.6088825  2.890310 1700 \n",
      "[8]  {3DSMAX,CIV3D,RVT} => {NAVMAN} 0.01144785 0.5928753  2.814326 1398 \n",
      "[9]  {ACD,PLNT3D}       => {NAVMAN} 0.02025893 0.5757505  2.733036 2474 \n",
      "[10] {ACD,RECAP}        => {NAVMAN} 0.01478066 0.5721078  2.715744 1805 \n"
     ]
    }
   ],
   "source": [
    "aec_rules_lift <- sort (aec_rules, by=\"lift\", decreasing=TRUE)\n",
    "inspect(head(aec_rules_lift,10))"
   ]
  },
  {
   "cell_type": "markdown",
   "metadata": {},
   "source": [
    "A rule with a lift of 4.04 (see rules_lift above) imply that, the items in LHS and RHS are 4.04 times more likely to be used together compared to the usage when only rhs is used."
   ]
  },
  {
   "cell_type": "markdown",
   "metadata": {},
   "source": [
    "### PDC collection "
   ]
  },
  {
   "cell_type": "code",
   "execution_count": 13,
   "metadata": {},
   "outputs": [
    {
     "name": "stdout",
     "output_type": "stream",
     "text": [
      "Apriori\n",
      "\n",
      "Parameter specification:\n",
      " confidence minval smax arem  aval originalSupport maxtime support minlen\n",
      "        0.5    0.1    1 none FALSE            TRUE       5    0.01      1\n",
      " maxlen target   ext\n",
      "     10  rules FALSE\n",
      "\n",
      "Algorithmic control:\n",
      " filter tree heap memopt load sort verbose\n",
      "    0.1 TRUE TRUE  FALSE TRUE    2    TRUE\n",
      "\n",
      "Absolute minimum support count: 581 \n",
      "\n",
      "set item appearances ...[0 item(s)] done [0.00s].\n",
      "set transactions ...[17 item(s), 58152 transaction(s)] done [0.01s].\n",
      "sorting and recoding items ... [9 item(s)] done [0.00s].\n",
      "creating transaction tree ... done [0.02s].\n",
      "checking subsets of size 1 2 3 4 done [0.00s].\n",
      "writing ... [70 rule(s)] done [0.00s].\n",
      "creating S4 object  ... done [0.00s].\n"
     ]
    }
   ],
   "source": [
    "pdc_rules<-apriori(pdc_tran,\n",
    "               parameter = list(support= 0.01, confidence = 0.5))"
   ]
  },
  {
   "cell_type": "code",
   "execution_count": 14,
   "metadata": {
    "scrolled": false
   },
   "outputs": [
    {
     "name": "stdout",
     "output_type": "stream",
     "text": [
      "     lhs                             rhs        support    confidence lift     \n",
      "[1]  {ACD,AMECH_PP,NAVMAN}        => {INVPROSA} 0.01492640 0.9507119  1.1655311\n",
      "[2]  {3DSMAX,ACAD_E,AMECH_PP}     => {INVPROSA} 0.01059293 0.9447853  1.1582652\n",
      "[3]  {ACAD_E,NAVMAN}              => {INVPROSA} 0.01016302 0.9380952  1.1500635\n",
      "[4]  {3DSMAX,ACAD_E}              => {INVPROSA} 0.01293163 0.9376559  1.1495249\n",
      "[5]  {3DSMAX,NAVMAN}              => {INVPROSA} 0.01315518 0.9329268  1.1437273\n",
      "[6]  {ACAD_E,ACD,ARCHDESK}        => {INVPROSA} 0.01009424 0.9317460  1.1422797\n",
      "[7]  {ACAD_E,AMECH_PP,ARCHDESK}   => {INVPROSA} 0.01177947 0.9307065  1.1410053\n",
      "[8]  {AMECH_PP,RECAP}             => {INVPROSA} 0.01064452 0.9294294  1.1394396\n",
      "[9]  {ACAD_E,ACD,AMECH_PP}        => {INVPROSA} 0.01953501 0.9288635  1.1387458\n",
      "[10] {ARCHDESK,NAVMAN}            => {INVPROSA} 0.01296602 0.9285714  1.1383878\n",
      "[11] {AMECH_PP,NAVMAN}            => {INVPROSA} 0.03224309 0.9263834  1.1357053\n",
      "[12] {ACAD_E,ARCHDESK}            => {INVPROSA} 0.01408378 0.9171333  1.1243651\n",
      "[13] {3DSMAX,ACD,AMECH_PP}        => {INVPROSA} 0.01556266 0.9159919  1.1229658\n",
      "[14] {ACD,AMECH_PP,ARCHDESK}      => {INVPROSA} 0.01441051 0.9108696  1.1166861\n",
      "[15] {3DSMAX,AMECH_PP}            => {INVPROSA} 0.03269019 0.9018027  1.1055704\n",
      "[16] {ACAD_E,AMECH_PP}            => {INVPROSA} 0.03891526 0.8994436  1.1026783\n",
      "[17] {ACD,RECAP}                  => {INVPROSA} 0.01048975 0.8983800  1.1013744\n",
      "[18] {ACD,AMECH_PP}               => {INVPROSA} 0.09518159 0.8957760  1.0981820\n",
      "[19] {AMECH_PP,ARCHDESK}          => {INVPROSA} 0.02545054 0.8948005  1.0969861\n",
      "[20] {ACAD_E,ACD}                 => {INVPROSA} 0.03115972 0.8856305  1.0857441\n",
      "[21] {ACD,NAVMAN}                 => {INVPROSA} 0.02871784 0.8761805  1.0741588\n",
      "[22] {3DSMAX,ARCHDESK}            => {INVPROSA} 0.01260490 0.8684834  1.0647225\n",
      "[23] {AMECH_PP}                   => {INVPROSA} 0.39505090 0.8545549  1.0476468\n",
      "[24] {NAVMAN}                     => {INVPROSA} 0.04990370 0.8492830  1.0411836\n",
      "[25] {ACD,ARCHDESK}               => {INVPROSA} 0.02560531 0.8450624  1.0360094\n",
      "[26] {RECAP}                      => {INVPROSA} 0.01855482 0.8423107  1.0326359\n",
      "[27] {ACAD_E,ARCHDESK,INVPROSA}   => {AMECH_PP} 0.01177947 0.8363858  1.8092292\n",
      "[28] {ACAD_E,ARCHDESK}            => {AMECH_PP} 0.01265649 0.8241881  1.7828437\n",
      "[29] {3DSMAX,ACAD_E,INVPROSA}     => {AMECH_PP} 0.01059293 0.8191489  1.7719432\n",
      "[30] {ACAD_E}                     => {INVPROSA} 0.06156280 0.8177250  1.0024949\n",
      "[31] {}                           => {INVPROSA} 0.81568992 0.8156899  1.0000000\n",
      "[32] {3DSMAX,ACAD_E}              => {AMECH_PP} 0.01121200 0.8129676  1.7585720\n",
      "[33] {ARCHDESK}                   => {INVPROSA} 0.04347228 0.7826625  0.9595099\n",
      "[34] {ACD}                        => {INVPROSA} 0.32408172 0.7660353  0.9391256\n",
      "[35] {3DSMAX,NAVMAN}              => {AMECH_PP} 0.01038657 0.7365854  1.5933457\n",
      "[36] {3DSMAX}                     => {INVPROSA} 0.06197551 0.7282279  0.8927754\n",
      "[37] {3DSMAX,ACD}                 => {INVPROSA} 0.03655936 0.7209223  0.8838191\n",
      "[38] {ACAD_E,ARCHDESK,INVPROSA}   => {ACD}      0.01009424 0.7167277  1.6941367\n",
      "[39] {ACAD_E,ARCHDESK}            => {ACD}      0.01083368 0.7054871  1.6675672\n",
      "[40] {INVPROSA,NAVMAN}            => {AMECH_PP} 0.03224309 0.6461061  1.3976254\n",
      "[41] {ACAD_E,INVPROSA}            => {AMECH_PP} 0.03891526 0.6321229  1.3673776\n",
      "[42] {ACAD_E,ACD,INVPROSA}        => {AMECH_PP} 0.01953501 0.6269316  1.3561479\n",
      "[43] {ACD,INVNTOR}                => {INVPROSA} 0.01238135 0.6015038  0.7374172\n",
      "[44] {ACAD_E,ACD}                 => {AMECH_PP} 0.02103109 0.5977517  1.2930275\n",
      "[45] {3DSMAX}                     => {ACD}      0.05071193 0.5958780  1.4084828\n",
      "[46] {NAVMAN}                     => {AMECH_PP} 0.03480534 0.5923325  1.2813048\n",
      "[47] {INVNTOR,INVPROSA}           => {AMECH_PP} 0.01501238 0.5902637  1.2768298\n",
      "[48] {3DSMAX,INVPROSA}            => {ACD}      0.03655936 0.5899001  1.3943529\n",
      "[49] {ARCHDESK,INVPROSA}          => {ACD}      0.02560531 0.5890032  1.3922328\n",
      "[50] {AMECH_PP,INVNTOR}           => {INVPROSA} 0.01501238 0.5878788  0.7207136\n",
      "[51] {ARCHDESK,INVPROSA}          => {AMECH_PP} 0.02545054 0.5854430  1.2664019\n",
      "[52] {INVPROSA,NAVMAN}            => {ACD}      0.02871784 0.5754652  1.3602330\n",
      "[53] {ACAD_E}                     => {AMECH_PP} 0.04326592 0.5746916  1.2431450\n",
      "[54] {INVPROSA,RECAP}             => {AMECH_PP} 0.01064452 0.5736793  1.2409553\n",
      "[55] {AMECH_PP,ARCHDESK,INVPROSA} => {ACD}      0.01441051 0.5662162  1.3383711\n",
      "[56] {INVPROSA,RECAP}             => {ACD}      0.01048975 0.5653383  1.3362959\n",
      "[57] {ACD,ARCHDESK,INVPROSA}      => {AMECH_PP} 0.01441051 0.5627938  1.2174083\n",
      "[58] {NAVMAN}                     => {ACD}      0.03277617 0.5577992  1.3184758\n",
      "[59] {AMECH_PP,ARCHDESK}          => {ACD}      0.01582061 0.5562273  1.3147602\n",
      "[60] {ARCHDESK}                   => {ACD}      0.03029990 0.5455108  1.2894296\n",
      "[61] {RECAP}                      => {ACD}      0.01167630 0.5300546  1.2528956\n",
      "[62] {3DSMAX,INVPROSA}            => {AMECH_PP} 0.03269019 0.5274695  1.1409964\n",
      "[63] {ACD,ARCHDESK}               => {AMECH_PP} 0.01582061 0.5221339  1.1294548\n",
      "[64] {RECAP}                      => {AMECH_PP} 0.01145274 0.5199063  1.1246361\n",
      "[65] {ACD,INVPROSA,NAVMAN}        => {AMECH_PP} 0.01492640 0.5197605  1.1243206\n",
      "[66] {INVNTOR}                    => {AMECH_PP} 0.02553652 0.5185056  1.1216061\n",
      "[67] {INVNTOR}                    => {INVPROSA} 0.02543335 0.5164106  0.6330967\n",
      "[68] {ARCHDESK}                   => {AMECH_PP} 0.02844270 0.5120743  1.1076943\n",
      "[69] {ACAD_E,INVPROSA}            => {ACD}      0.03115972 0.5061453  1.1963807\n",
      "[70] {ACAD_E,AMECH_PP,INVPROSA}   => {ACD}      0.01953501 0.5019885  1.1865554\n",
      "     count\n",
      "[1]    868\n",
      "[2]    616\n",
      "[3]    591\n",
      "[4]    752\n",
      "[5]    765\n",
      "[6]    587\n",
      "[7]    685\n",
      "[8]    619\n",
      "[9]   1136\n",
      "[10]   754\n",
      "[11]  1875\n",
      "[12]   819\n",
      "[13]   905\n",
      "[14]   838\n",
      "[15]  1901\n",
      "[16]  2263\n",
      "[17]   610\n",
      "[18]  5535\n",
      "[19]  1480\n",
      "[20]  1812\n",
      "[21]  1670\n",
      "[22]   733\n",
      "[23] 22973\n",
      "[24]  2902\n",
      "[25]  1489\n",
      "[26]  1079\n",
      "[27]   685\n",
      "[28]   736\n",
      "[29]   616\n",
      "[30]  3580\n",
      "[31] 47434\n",
      "[32]   652\n",
      "[33]  2528\n",
      "[34] 18846\n",
      "[35]   604\n",
      "[36]  3604\n",
      "[37]  2126\n",
      "[38]   587\n",
      "[39]   630\n",
      "[40]  1875\n",
      "[41]  2263\n",
      "[42]  1136\n",
      "[43]   720\n",
      "[44]  1223\n",
      "[45]  2949\n",
      "[46]  2024\n",
      "[47]   873\n",
      "[48]  2126\n",
      "[49]  1489\n",
      "[50]   873\n",
      "[51]  1480\n",
      "[52]  1670\n",
      "[53]  2516\n",
      "[54]   619\n",
      "[55]   838\n",
      "[56]   610\n",
      "[57]   838\n",
      "[58]  1906\n",
      "[59]   920\n",
      "[60]  1762\n",
      "[61]   679\n",
      "[62]  1901\n",
      "[63]   920\n",
      "[64]   666\n",
      "[65]   868\n",
      "[66]  1485\n",
      "[67]  1479\n",
      "[68]  1654\n",
      "[69]  1812\n",
      "[70]  1136\n"
     ]
    }
   ],
   "source": [
    "pdc_rules_conf <- sort (pdc_rules, by=\"confidence\", decreasing=TRUE)\n",
    "inspect(pdc_rules_conf)"
   ]
  },
  {
   "cell_type": "code",
   "execution_count": 15,
   "metadata": {},
   "outputs": [
    {
     "name": "stdout",
     "output_type": "stream",
     "text": [
      "     lhs                           rhs        support    confidence lift    \n",
      "[1]  {ACAD_E,ARCHDESK,INVPROSA} => {AMECH_PP} 0.01177947 0.8363858  1.809229\n",
      "[2]  {ACAD_E,ARCHDESK}          => {AMECH_PP} 0.01265649 0.8241881  1.782844\n",
      "[3]  {3DSMAX,ACAD_E,INVPROSA}   => {AMECH_PP} 0.01059293 0.8191489  1.771943\n",
      "[4]  {3DSMAX,ACAD_E}            => {AMECH_PP} 0.01121200 0.8129676  1.758572\n",
      "[5]  {ACAD_E,ARCHDESK,INVPROSA} => {ACD}      0.01009424 0.7167277  1.694137\n",
      "[6]  {ACAD_E,ARCHDESK}          => {ACD}      0.01083368 0.7054871  1.667567\n",
      "[7]  {3DSMAX,NAVMAN}            => {AMECH_PP} 0.01038657 0.7365854  1.593346\n",
      "[8]  {3DSMAX}                   => {ACD}      0.05071193 0.5958780  1.408483\n",
      "[9]  {INVPROSA,NAVMAN}          => {AMECH_PP} 0.03224309 0.6461061  1.397625\n",
      "[10] {3DSMAX,INVPROSA}          => {ACD}      0.03655936 0.5899001  1.394353\n",
      "     count\n",
      "[1]   685 \n",
      "[2]   736 \n",
      "[3]   616 \n",
      "[4]   652 \n",
      "[5]   587 \n",
      "[6]   630 \n",
      "[7]   604 \n",
      "[8]  2949 \n",
      "[9]  1875 \n",
      "[10] 2126 \n"
     ]
    }
   ],
   "source": [
    "pdc_rules_lift <- sort (pdc_rules, by=\"lift\", decreasing=TRUE)\n",
    "inspect(head(pdc_rules_lift,10))"
   ]
  },
  {
   "cell_type": "markdown",
   "metadata": {},
   "source": [
    "### MEC collection "
   ]
  },
  {
   "cell_type": "code",
   "execution_count": 16,
   "metadata": {},
   "outputs": [
    {
     "name": "stdout",
     "output_type": "stream",
     "text": [
      "Apriori\n",
      "\n",
      "Parameter specification:\n",
      " confidence minval smax arem  aval originalSupport maxtime support minlen\n",
      "        0.5    0.1    1 none FALSE            TRUE       5    0.01      1\n",
      " maxlen target   ext\n",
      "     10  rules FALSE\n",
      "\n",
      "Algorithmic control:\n",
      " filter tree heap memopt load sort verbose\n",
      "    0.1 TRUE TRUE  FALSE TRUE    2    TRUE\n",
      "\n",
      "Absolute minimum support count: 33 \n",
      "\n",
      "set item appearances ...[0 item(s)] done [0.00s].\n",
      "set transactions ...[8 item(s), 3324 transaction(s)] done [0.00s].\n",
      "sorting and recoding items ... [5 item(s)] done [0.00s].\n",
      "creating transaction tree ... done [0.00s].\n",
      "checking subsets of size 1 2 3 done [0.00s].\n",
      "writing ... [17 rule(s)] done [0.00s].\n",
      "creating S4 object  ... done [0.00s].\n"
     ]
    }
   ],
   "source": [
    "mec_rules<-apriori(mec_tran,\n",
    "               parameter = list(support= 0.01, confidence = 0.5))"
   ]
  },
  {
   "cell_type": "code",
   "execution_count": 17,
   "metadata": {},
   "outputs": [
    {
     "name": "stdout",
     "output_type": "stream",
     "text": [
      "     lhs                rhs      support    confidence lift      count\n",
      "[1]  {MBXPRO,MOBPRO} => {MAYA}   0.01022864 0.9189189  1.2188693   34 \n",
      "[2]  {MBXPRO}        => {MAYA}   0.02587244 0.8431373  1.1183513   86 \n",
      "[3]  {3DSMAX,MBXPRO} => {MAYA}   0.01744886 0.8405797  1.1149589   58 \n",
      "[4]  {MOBPRO}        => {MAYA}   0.03459687 0.8394161  1.1134154  115 \n",
      "[5]  {3DSMAX,MOBPRO} => {MAYA}   0.01925391 0.8205128  1.0883418   64 \n",
      "[6]  {3DSMAX,RECAP}  => {MAYA}   0.01564380 0.8125000  1.0777135   52 \n",
      "[7]  {MAYA,RECAP}    => {3DSMAX} 0.01564380 0.8125000  1.2638044   52 \n",
      "[8]  {}              => {MAYA}   0.75391095 0.7539110  1.0000000 2506 \n",
      "[9]  {RECAP}         => {3DSMAX} 0.01925391 0.7356322  1.1442402   64 \n",
      "[10] {RECAP}         => {MAYA}   0.01925391 0.7356322  0.9757547   64 \n",
      "[11] {MBXPRO}        => {3DSMAX} 0.02075812 0.6764706  1.0522172   69 \n",
      "[12] {MAYA,MBXPRO}   => {3DSMAX} 0.01744886 0.6744186  1.0490255   58 \n",
      "[13] {}              => {3DSMAX} 0.64290012 0.6429001  1.0000000 2137 \n",
      "[14] {3DSMAX}        => {MAYA}   0.40373045 0.6279832  0.8329673 1342 \n",
      "[15] {MOBPRO}        => {3DSMAX} 0.02346570 0.5693431  0.8855856   78 \n",
      "[16] {MAYA,MOBPRO}   => {3DSMAX} 0.01925391 0.5565217  0.8656426   64 \n",
      "[17] {MAYA}          => {3DSMAX} 0.40373045 0.5355148  0.8329673 1342 \n"
     ]
    }
   ],
   "source": [
    "mec_rules_conf <- sort (mec_rules, by=\"confidence\", decreasing=TRUE)\n",
    "inspect(mec_rules_conf)"
   ]
  },
  {
   "cell_type": "code",
   "execution_count": 18,
   "metadata": {},
   "outputs": [
    {
     "name": "stdout",
     "output_type": "stream",
     "text": [
      "     lhs                rhs      support    confidence lift     count\n",
      "[1]  {MAYA,RECAP}    => {3DSMAX} 0.01564380 0.8125000  1.263804  52  \n",
      "[2]  {MBXPRO,MOBPRO} => {MAYA}   0.01022864 0.9189189  1.218869  34  \n",
      "[3]  {RECAP}         => {3DSMAX} 0.01925391 0.7356322  1.144240  64  \n",
      "[4]  {MBXPRO}        => {MAYA}   0.02587244 0.8431373  1.118351  86  \n",
      "[5]  {3DSMAX,MBXPRO} => {MAYA}   0.01744886 0.8405797  1.114959  58  \n",
      "[6]  {MOBPRO}        => {MAYA}   0.03459687 0.8394161  1.113415 115  \n",
      "[7]  {3DSMAX,MOBPRO} => {MAYA}   0.01925391 0.8205128  1.088342  64  \n",
      "[8]  {3DSMAX,RECAP}  => {MAYA}   0.01564380 0.8125000  1.077713  52  \n",
      "[9]  {MBXPRO}        => {3DSMAX} 0.02075812 0.6764706  1.052217  69  \n",
      "[10] {MAYA,MBXPRO}   => {3DSMAX} 0.01744886 0.6744186  1.049025  58  \n"
     ]
    }
   ],
   "source": [
    "mec_rules_lift <- sort (mec_rules, by=\"lift\", decreasing=TRUE)\n",
    "inspect(head(mec_rules_lift,10))"
   ]
  },
  {
   "cell_type": "code",
   "execution_count": null,
   "metadata": {
    "collapsed": true
   },
   "outputs": [],
   "source": []
  }
 ],
 "metadata": {
  "kernelspec": {
   "display_name": "R",
   "language": "R",
   "name": "ir"
  },
  "language_info": {
   "codemirror_mode": "r",
   "file_extension": ".r",
   "mimetype": "text/x-r-source",
   "name": "R",
   "pygments_lexer": "r",
   "version": "3.4.2"
  }
 },
 "nbformat": 4,
 "nbformat_minor": 2
}
