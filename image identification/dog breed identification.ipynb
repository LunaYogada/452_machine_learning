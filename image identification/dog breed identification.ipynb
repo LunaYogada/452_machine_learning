{
 "cells": [
  {
   "cell_type": "markdown",
   "metadata": {},
   "source": [
    "# Using Tensorflow, PyTorch to recoginize dog breed"
   ]
  },
  {
   "cell_type": "markdown",
   "metadata": {},
   "source": [
    "# 1. Define structure for CNN\n",
    "# 2. Define Cost function\n",
    "# 3. Train the model, optimize the cost function\n",
    "# 4. Validation¶"
   ]
  },
  {
   "cell_type": "markdown",
   "metadata": {},
   "source": [
    "# Load package"
   ]
  },
  {
   "cell_type": "code",
   "execution_count": 2,
   "metadata": {},
   "outputs": [
    {
     "data": {
      "text/plain": [
       "'1.2.1'"
      ]
     },
     "execution_count": 2,
     "metadata": {},
     "output_type": "execute_result"
    }
   ],
   "source": [
    "%matplotlib inline\n",
    "import matplotlib.pyplot as plt\n",
    "import tensorflow as tf\n",
    "import numpy as np\n",
    "import time\n",
    "from datetime import timedelta\n",
    "import math\n",
    "import os\n",
    "import scipy.misc\n",
    "from scipy.stats import itemfreq\n",
    "from random import sample\n",
    "import pickle\n",
    "from sklearn.metrics import confusion_matrix\n",
    "from sklearn.model_selection import train_test_split\n",
    "\n",
    "# Image manipulation.\n",
    "import PIL\n",
    "from IPython.display import display\n",
    "#from resizeimage import resizeimage\n",
    "\n",
    "#Panda\n",
    "import pandas as pd\n",
    "\n",
    "#Open a Zip File\n",
    "from zipfile import ZipFile\n",
    "from io import BytesIO\n",
    "\n",
    "#check tensorflow version\n",
    "tf.__version__"
   ]
  },
  {
   "cell_type": "code",
   "execution_count": 3,
   "metadata": {
    "collapsed": true
   },
   "outputs": [],
   "source": [
    "from PIL import Image"
   ]
  },
  {
   "cell_type": "markdown",
   "metadata": {},
   "source": [
    "# Load Data"
   ]
  },
  {
   "cell_type": "code",
   "execution_count": 4,
   "metadata": {},
   "outputs": [
    {
     "data": {
      "text/plain": [
       "['train/',\n",
       " 'train/000bec180eb18c7604dcecc8fe0dba07.jpg',\n",
       " 'train/001513dfcb2ffafc82cccf4d8bbaba97.jpg',\n",
       " 'train/001cdf01b096e06d78e9e5112d419397.jpg',\n",
       " 'train/00214f311d5d2247d5dfe4fe24b2303d.jpg']"
      ]
     },
     "execution_count": 4,
     "metadata": {},
     "output_type": "execute_result"
    }
   ],
   "source": [
    "archive_train = ZipFile(\"dog/train.zip\", 'r')\n",
    "archive_test = ZipFile(\"dog/test.zip\", 'r')\n",
    "archive_train.namelist()[0:5]"
   ]
  },
  {
   "cell_type": "markdown",
   "metadata": {},
   "source": [
    "# Prepare Data "
   ]
  },
  {
   "cell_type": "markdown",
   "metadata": {},
   "source": [
    "## Resize image "
   ]
  },
  {
   "cell_type": "code",
   "execution_count": 5,
   "metadata": {
    "collapsed": true
   },
   "outputs": [],
   "source": [
    "def DataBase_creator(archivezip, nwigth, nheight, save_name):\n",
    "    start_time = time.time()\n",
    "    \n",
    "    s = (len(archivezip.namelist()[:])-1, nwigth, nheight,3) #nwigth x nheight = number of features because images are nwigth x nheight pixels\n",
    "    allImage = np.zeros(s)\n",
    "\n",
    "    for i in range(1,len(archivezip.namelist()[:])):\n",
    "        filename = BytesIO(archivezip.read(archivezip.namelist()[i]))\n",
    "        #img = cv2.imread('../input/train/{}.jpg'.format(f))\n",
    "        image = PIL.Image.open(filename) # open colour image\n",
    "        image = image.resize((nwigth, nheight))\n",
    "        image = np.array(image)\n",
    "        image = np.clip(image/255.0, 0.0, 1.0) #255 = max of the value of a pixel\n",
    "\n",
    "        allImage[i-1]=image\n",
    "    \n",
    "    pickle.dump(allImage, open( save_name + '.p', \"wb\" ) )  \n",
    "    end_time = time.time()\n",
    "    time_dif = end_time - start_time\n",
    "    print(\"Time usage: \" + str(timedelta(seconds=int(round(time_dif)))))"
   ]
  },
  {
   "cell_type": "code",
   "execution_count": 6,
   "metadata": {},
   "outputs": [
    {
     "name": "stdout",
     "output_type": "stream",
     "text": [
      "Time usage: 0:01:07\n",
      "Time usage: 0:01:30\n"
     ]
    },
    {
     "data": {
      "text/plain": [
       "(10222, 60, 60, 3)"
      ]
     },
     "execution_count": 6,
     "metadata": {},
     "output_type": "execute_result"
    }
   ],
   "source": [
    "image_resize = 60\n",
    "DataBase_creator(archivezip = archive_train, nwigth = image_resize, nheight = image_resize , save_name = \"train\")\n",
    "DataBase_creator(archivezip = archive_test, nwigth = image_resize, nheight = image_resize , save_name = \"test\")\n",
    "train = pickle.load( open( \"train.p\", \"rb\" ) )\n",
    "train.shape"
   ]
  },
  {
   "cell_type": "code",
   "execution_count": 7,
   "metadata": {},
   "outputs": [
    {
     "name": "stdout",
     "output_type": "stream",
     "text": [
      "Time usage: 0:01:02\n"
     ]
    }
   ],
   "source": [
    "DataBase_creator(archivezip = archive_test, nwigth = image_resize, nheight = image_resize , save_name = \"test\")"
   ]
  },
  {
   "cell_type": "code",
   "execution_count": 8,
   "metadata": {},
   "outputs": [
    {
     "data": {
      "text/plain": [
       "(10222, 60, 60, 3)"
      ]
     },
     "execution_count": 8,
     "metadata": {},
     "output_type": "execute_result"
    }
   ],
   "source": [
    "train = pickle.load( open( \"train.p\", \"rb\" ) )\n",
    "train.shape"
   ]
  },
  {
   "cell_type": "code",
   "execution_count": 9,
   "metadata": {},
   "outputs": [
    {
     "data": {
      "text/plain": [
       "(10357, 60, 60, 3)"
      ]
     },
     "execution_count": 9,
     "metadata": {},
     "output_type": "execute_result"
    }
   ],
   "source": [
    "test = pickle.load( open( \"test.p\", \"rb\" ) )\n",
    "test.shape"
   ]
  },
  {
   "cell_type": "code",
   "execution_count": 10,
   "metadata": {
    "collapsed": true
   },
   "outputs": [],
   "source": [
    "sub_test = test[:10]"
   ]
  },
  {
   "cell_type": "code",
   "execution_count": 11,
   "metadata": {},
   "outputs": [
    {
     "data": {
      "text/html": [
       "<div>\n",
       "<style>\n",
       "    .dataframe thead tr:only-child th {\n",
       "        text-align: right;\n",
       "    }\n",
       "\n",
       "    .dataframe thead th {\n",
       "        text-align: left;\n",
       "    }\n",
       "\n",
       "    .dataframe tbody tr th {\n",
       "        vertical-align: top;\n",
       "    }\n",
       "</style>\n",
       "<table border=\"1\" class=\"dataframe\">\n",
       "  <thead>\n",
       "    <tr style=\"text-align: right;\">\n",
       "      <th></th>\n",
       "      <th>id</th>\n",
       "      <th>breed</th>\n",
       "    </tr>\n",
       "  </thead>\n",
       "  <tbody>\n",
       "    <tr>\n",
       "      <th>3418</th>\n",
       "      <td>5500fd92cf93459fd345e6f34854df4a</td>\n",
       "      <td>eskimo_dog</td>\n",
       "    </tr>\n",
       "    <tr>\n",
       "      <th>451</th>\n",
       "      <td>0ab8d4c80ae4e6bbeacd66fb7e52b851</td>\n",
       "      <td>pomeranian</td>\n",
       "    </tr>\n",
       "    <tr>\n",
       "      <th>9175</th>\n",
       "      <td>e66b165e767d45ac2ef046873a27ed29</td>\n",
       "      <td>wire-haired_fox_terrier</td>\n",
       "    </tr>\n",
       "    <tr>\n",
       "      <th>1833</th>\n",
       "      <td>2d3effc3e9eff34775fbcde166dc9981</td>\n",
       "      <td>boxer</td>\n",
       "    </tr>\n",
       "    <tr>\n",
       "      <th>5563</th>\n",
       "      <td>8c6d252c208a9564a72522e6592b12d1</td>\n",
       "      <td>miniature_pinscher</td>\n",
       "    </tr>\n",
       "  </tbody>\n",
       "</table>\n",
       "</div>"
      ],
      "text/plain": [
       "                                    id                    breed\n",
       "3418  5500fd92cf93459fd345e6f34854df4a               eskimo_dog\n",
       "451   0ab8d4c80ae4e6bbeacd66fb7e52b851               pomeranian\n",
       "9175  e66b165e767d45ac2ef046873a27ed29  wire-haired_fox_terrier\n",
       "1833  2d3effc3e9eff34775fbcde166dc9981                    boxer\n",
       "5563  8c6d252c208a9564a72522e6592b12d1       miniature_pinscher"
      ]
     },
     "execution_count": 11,
     "metadata": {},
     "output_type": "execute_result"
    }
   ],
   "source": [
    "labels_raw = pd.read_csv(\"dog/labels.csv.zip\", compression='zip', header=0, sep=',', quotechar='\"')\n",
    "labels_raw.sample(5)"
   ]
  },
  {
   "cell_type": "code",
   "execution_count": 12,
   "metadata": {},
   "outputs": [
    {
     "name": "stdout",
     "output_type": "stream",
     "text": [
      "- Number of images remaining after selecting the 10 main breeds : (1141,)\n",
      "- The shape of train_filtered dataset is : (1141, 60, 60, 3)\n"
     ]
    }
   ],
   "source": [
    "Nber_of_breeds = 10\n",
    "\n",
    "def main_breeds(labels_raw, Nber_breeds , all_breeds='TRUE'):\n",
    "    labels_freq_pd = itemfreq(labels_raw[\"breed\"])\n",
    "    labels_freq_pd = labels_freq_pd[labels_freq_pd[:, 1].argsort()[::-1]] #[::-1] ==> to sort in descending order\n",
    "    \n",
    "    if all_breeds == 'FALSE':\n",
    "        main_labels = labels_freq_pd[:,0][0:Nber_breeds]\n",
    "    else: \n",
    "        main_labels = labels_freq_pd[:,0][:]\n",
    "        \n",
    "    labels_raw_np = labels_raw[\"breed\"].as_matrix() #transform in numpy\n",
    "    labels_raw_np = labels_raw_np.reshape(labels_raw_np.shape[0],1) #shape[0] looks faster than using len(labels)\n",
    "\n",
    "    labels_filtered_index = np.where(labels_raw_np == main_labels)\n",
    "    \n",
    "    return labels_filtered_index\n",
    "\n",
    "labels_filtered_index = main_breeds(labels_raw = labels_raw, Nber_breeds = Nber_of_breeds, all_breeds='FALSE')\n",
    "labels_filtered = labels_raw.iloc[labels_filtered_index[0],:]\n",
    "train_filtered = train[labels_filtered_index[0],:,:,:]\n",
    "\n",
    "print('- Number of images remaining after selecting the {0} main breeds : {1}'.format(Nber_of_breeds, labels_filtered_index[0].shape))\n",
    "print('- The shape of train_filtered dataset is : {0}'.format(train_filtered.shape))"
   ]
  },
  {
   "cell_type": "code",
   "execution_count": 13,
   "metadata": {},
   "outputs": [
    {
     "data": {
      "image/png": "[encoded data removed]",
      "text/plain": [
       "<matplotlib.figure.Figure at 0x166239d40b8>"
      ]
     },
     "metadata": {},
     "output_type": "display_data"
    }
   ],
   "source": [
    "lum_img = train_filtered[1,:,:,:]\n",
    "plt.imshow(lum_img)\n",
    "plt.show()"
   ]
  },
  {
   "cell_type": "code",
   "execution_count": 13,
   "metadata": {},
   "outputs": [
    {
     "data": {
      "text/plain": [
       "(1141, 1)"
      ]
     },
     "execution_count": 13,
     "metadata": {},
     "output_type": "execute_result"
    }
   ],
   "source": [
    "labels = labels_filtered[\"breed\"].as_matrix()\n",
    "labels = labels.reshape(labels.shape[0],1) \n",
    "labels.shape"
   ]
  },
  {
   "cell_type": "markdown",
   "metadata": {},
   "source": [
    "## Turn labels into One-hot vectors "
   ]
  },
  {
   "cell_type": "code",
   "execution_count": 14,
   "metadata": {
    "collapsed": true
   },
   "outputs": [],
   "source": [
    "def matrix_Bin(labels):\n",
    "    labels_bin=np.array([])\n",
    "\n",
    "    labels_name, labels0 = np.unique(labels, return_inverse=True)\n",
    "    labels0\n",
    "    \n",
    "    for _, i in enumerate(itemfreq(labels0)[:,0].astype(int)):\n",
    "        labels_bin0 = np.where(labels0 == itemfreq(labels0)[:,0][i], 1., 0.)\n",
    "        labels_bin0 = labels_bin0.reshape(1,labels_bin0.shape[0])\n",
    "\n",
    "        if (labels_bin.shape[0] == 0):\n",
    "            labels_bin = labels_bin0\n",
    "        else:\n",
    "            labels_bin = np.concatenate((labels_bin,labels_bin0 ),axis=0)\n",
    "\n",
    "    print(\"Nber SubVariables {0}\".format(itemfreq(labels0)[:,0].shape[0]))\n",
    "    labels_bin = labels_bin.transpose()\n",
    "    print(\"Shape : {0}\".format(labels_bin.shape))\n",
    "    \n",
    "    return labels_name, labels_bin"
   ]
  },
  {
   "cell_type": "code",
   "execution_count": 15,
   "metadata": {},
   "outputs": [
    {
     "name": "stdout",
     "output_type": "stream",
     "text": [
      "Nber SubVariables 10\n",
      "Shape : (1141, 10)\n"
     ]
    },
    {
     "data": {
      "text/plain": [
       "array([[ 0.,  1.,  0.,  0.,  0.,  0.,  0.,  0.,  0.,  0.],\n",
       "       [ 0.,  0.,  0.,  0.,  0.,  0.,  0.,  0.,  1.,  0.],\n",
       "       [ 0.,  0.,  0.,  0.,  0.,  1.,  0.,  0.,  0.,  0.],\n",
       "       [ 0.,  0.,  0.,  0.,  0.,  0.,  0.,  0.,  0.,  1.],\n",
       "       [ 0.,  0.,  0.,  0.,  0.,  0.,  0.,  1.,  0.,  0.],\n",
       "       [ 0.,  0.,  0.,  0.,  0.,  0.,  0.,  0.,  1.,  0.],\n",
       "       [ 0.,  0.,  0.,  1.,  0.,  0.,  0.,  0.,  0.,  0.],\n",
       "       [ 0.,  0.,  0.,  1.,  0.,  0.,  0.,  0.,  0.,  0.],\n",
       "       [ 0.,  0.,  0.,  0.,  0.,  1.,  0.,  0.,  0.,  0.]])"
      ]
     },
     "execution_count": 15,
     "metadata": {},
     "output_type": "execute_result"
    }
   ],
   "source": [
    "labels_name, labels_bin = matrix_Bin(labels = labels)\n",
    "labels_bin[0:9]"
   ]
  },
  {
   "cell_type": "code",
   "execution_count": 16,
   "metadata": {},
   "outputs": [
    {
     "name": "stdout",
     "output_type": "stream",
     "text": [
      "Breed 0 : afghan_hound\n",
      "Breed 1 : basenji\n",
      "Breed 2 : bernese_mountain_dog\n",
      "Breed 3 : entlebucher\n",
      "Breed 4 : great_pyrenees\n",
      "Breed 5 : maltese_dog\n",
      "Breed 6 : pomeranian\n",
      "Breed 7 : samoyed\n",
      "Breed 8 : scottish_deerhound\n",
      "Breed 9 : shih-tzu\n"
     ]
    }
   ],
   "source": [
    "for breed in range(len(labels_name)):\n",
    "    print('Breed {0} : {1}'.format(breed,labels_name[breed]))"
   ]
  },
  {
   "cell_type": "code",
   "execution_count": 17,
   "metadata": {},
   "outputs": [
    {
     "data": {
      "text/plain": [
       "'maltese_dog'"
      ]
     },
     "execution_count": 17,
     "metadata": {},
     "output_type": "execute_result"
    }
   ],
   "source": [
    "labels_cls = np.argmax(labels_bin, axis=1)\n",
    "labels_name[labels_cls[2]]"
   ]
  },
  {
   "cell_type": "code",
   "execution_count": 19,
   "metadata": {},
   "outputs": [
    {
     "name": "stdout",
     "output_type": "stream",
     "text": [
      "samoyed\n"
     ]
    },
    {
     "data": {
      "image/png": "[encoded data removed]",
      "text/plain": [
       "<matplotlib.figure.Figure at 0x16623a0f4a8>"
      ]
     },
     "metadata": {},
     "output_type": "display_data"
    }
   ],
   "source": [
    "i=11\n",
    "print(labels_name[labels_cls[i]])\n",
    "lum_img = train_filtered[i,:,:,:]\n",
    "plt.imshow(lum_img)\n",
    "plt.show()"
   ]
  },
  {
   "cell_type": "markdown",
   "metadata": {},
   "source": [
    "# Split data into train and validation"
   ]
  },
  {
   "cell_type": "code",
   "execution_count": 18,
   "metadata": {},
   "outputs": [
    {
     "data": {
      "text/plain": [
       "(798, 60, 60, 3)"
      ]
     },
     "execution_count": 18,
     "metadata": {},
     "output_type": "execute_result"
    }
   ],
   "source": [
    "num_validation = 0.30\n",
    "X_train, X_validation, y_train, y_validation = train_test_split(train_filtered, labels_bin, test_size=num_validation, random_state=6)\n",
    "X_train.shape"
   ]
  },
  {
   "cell_type": "code",
   "execution_count": 19,
   "metadata": {},
   "outputs": [
    {
     "data": {
      "text/plain": [
       "array([6, 4, 7, 2, 6, 9, 1, 1, 8], dtype=int64)"
      ]
     },
     "execution_count": 19,
     "metadata": {},
     "output_type": "execute_result"
    }
   ],
   "source": [
    "df_validation_toPred_cls = np.argmax(y_validation, axis=1)\n",
    "df_validation_toPred_cls[0:9]"
   ]
  },
  {
   "cell_type": "code",
   "execution_count": 22,
   "metadata": {},
   "outputs": [
    {
     "name": "stdout",
     "output_type": "stream",
     "text": [
      "shih-tzu\n",
      "26\n"
     ]
    },
    {
     "data": {
      "image/png": "[encoded data removed]",
      "text/plain": [
       "<matplotlib.figure.Figure at 0x166240c8b70>"
      ]
     },
     "metadata": {},
     "output_type": "display_data"
    }
   ],
   "source": [
    "i=2\n",
    "print(labels_name[df_validation_toPred_cls[i]])\n",
    "print(df_validation_toPred_cls[i])\n",
    "lum_img = X_validation[i,:,:,:]\n",
    "plt.imshow(lum_img)\n",
    "plt.show()"
   ]
  },
  {
   "cell_type": "code",
   "execution_count": 20,
   "metadata": {
    "collapsed": true
   },
   "outputs": [],
   "source": [
    "img_size = image_resize\n",
    "num_channels = 3\n",
    "img_size_flat = img_size * img_size\n",
    "img_shape = (img_size, img_size, num_channels)\n",
    "num_classes = Nber_of_breeds"
   ]
  },
  {
   "cell_type": "markdown",
   "metadata": {},
   "source": [
    "# Define structure for CNN"
   ]
  },
  {
   "cell_type": "code",
   "execution_count": 21,
   "metadata": {
    "collapsed": true
   },
   "outputs": [],
   "source": [
    "def new_weights(shape):\n",
    "    return tf.Variable(tf.truncated_normal(shape, stddev=0.05))\n",
    "#outputs random value from a truncated normal distribution\n",
    "\n",
    "def new_biases(length):\n",
    "    return tf.Variable(tf.constant(0.05, shape=[length]))\n",
    "#outputs the constant value 0.05"
   ]
  },
  {
   "cell_type": "code",
   "execution_count": 22,
   "metadata": {
    "collapsed": true
   },
   "outputs": [],
   "source": [
    "def new_conv_layer(input,              # The previous layer.\n",
    "                   num_input_channels, # Num. channels in prev. layer.\n",
    "                   filter_size,        # Width and height of each filter.\n",
    "                   num_filters,        # Number of filters.\n",
    "                   use_pooling=True,\n",
    "                   use_dropout=True):  # Use 2x2 max-pooling.\n",
    "\n",
    "    # Shape of the filter-weights for the convolution.\n",
    "    # This format is determined by the TensorFlow API.\n",
    "    shape = [filter_size, filter_size, num_input_channels, num_filters]\n",
    "\n",
    "    # Create new weights aka. filters with the given shape.\n",
    "    weights = new_weights(shape=shape)\n",
    "\n",
    "    # Create new biases, one for each filter.\n",
    "    biases = new_biases(length=num_filters)\n",
    "\n",
    "    # Create the TensorFlow operation for convolution.\n",
    "    # Note the strides are set to 1 in all dimensions.\n",
    "    # The first and last stride must always be 1,\n",
    "    # because the first is for the image-number and\n",
    "    # the last is for the input-channel.\n",
    "    # But e.g. strides=[1, 2, 2, 1] would mean that the filter\n",
    "    # is moved 2 pixels across the x- and y-axis of the image.\n",
    "    # The padding is set to 'SAME' which means the input image\n",
    "    # is padded with zeroes so the size of the output is the same.\n",
    "    layer = tf.nn.conv2d(input=input,\n",
    "                         filter=weights,\n",
    "                         strides=[1, 1, 1, 1],\n",
    "                         padding='SAME')\n",
    "\n",
    "    # Add the biases to the results of the convolution.\n",
    "    # A bias-value is added to each filter-channel.\n",
    "    layer += biases\n",
    "\n",
    "    # Use pooling to down-sample the image resolution?\n",
    "    if use_pooling:\n",
    "        # This is 2x2 max-pooling, which means that we\n",
    "        # consider 2x2 windows and select the largest value\n",
    "        # in each window. Then we move 2 pixels to the next window.\n",
    "        layer = tf.nn.max_pool(value=layer,\n",
    "                               ksize=[1, 2, 2, 1],\n",
    "                               strides=[1, 2, 2, 1],\n",
    "                               padding='SAME')\n",
    "\n",
    "    # Rectified Linear Unit (ReLU).\n",
    "    # It calculates max(x, 0) for each input pixel x.\n",
    "    # This adds some non-linearity to the formula and allows us\n",
    "    # to learn more complicated functions.\n",
    "    layer = tf.nn.relu(layer)\n",
    "    \n",
    "    if use_dropout:\n",
    "        layer = tf.nn.dropout(layer,keep_prob_conv)\n",
    "\n",
    "    # Note that ReLU is normally executed before the pooling,\n",
    "    # but since relu(max_pool(x)) == max_pool(relu(x)) we can\n",
    "    # save 75% of the relu-operations by max-pooling first.\n",
    "\n",
    "    # We return both the resulting layer and the filter-weights\n",
    "    # because we will plot the weights later.\n",
    "    return layer, weights"
   ]
  },
  {
   "cell_type": "code",
   "execution_count": 23,
   "metadata": {
    "collapsed": true
   },
   "outputs": [],
   "source": [
    "def flatten_layer(layer):\n",
    "    # Get the shape of the input layer.\n",
    "    layer_shape = layer.get_shape()\n",
    "\n",
    "    # The shape of the input layer is assumed to be:\n",
    "    # layer_shape == [num_images, img_height, img_width, num_channels]\n",
    "\n",
    "    # The number of features is: img_height * img_width * num_channels\n",
    "    # We can use a function from TensorFlow to calculate this.\n",
    "    num_features = layer_shape[1:4].num_elements()\n",
    "    \n",
    "    # Reshape the layer to [num_images, num_features].\n",
    "    # Note that we just set the size of the second dimension\n",
    "    # to num_features and the size of the first dimension to -1\n",
    "    # which means the size in that dimension is calculated\n",
    "    # so the total size of the tensor is unchanged from the reshaping.\n",
    "    layer_flat = tf.reshape(layer, [-1, num_features])\n",
    "\n",
    "    # The shape of the flattened layer is now:\n",
    "    # [num_images, img_height * img_width * num_channels]\n",
    "\n",
    "    # Return both the flattened layer and the number of features.\n",
    "    return layer_flat, num_features"
   ]
  },
  {
   "cell_type": "code",
   "execution_count": 24,
   "metadata": {
    "collapsed": true
   },
   "outputs": [],
   "source": [
    "def new_fc_layer(input,          # The previous layer.\n",
    "                 num_inputs,     # Num. inputs from prev. layer.\n",
    "                 num_outputs,    # Num. outputs.\n",
    "                 use_relu=True,\n",
    "                 use_dropout=True): # Use Rectified Linear Unit (ReLU)?\n",
    "\n",
    "    # Create new weights and biases.\n",
    "    weights = new_weights(shape=[num_inputs, num_outputs])\n",
    "    biases = new_biases(length=num_outputs)\n",
    "\n",
    "    # Calculate the layer as the matrix multiplication of\n",
    "    # the input and weights, and then add the bias-values.\n",
    "    layer = tf.matmul(input, weights) + biases\n",
    "\n",
    "    # Use ReLU?\n",
    "    if use_relu:\n",
    "        layer = tf.nn.relu(layer)\n",
    "    \n",
    "    if use_dropout:\n",
    "        layer = tf.nn.dropout(layer,keep_prob_fc)\n",
    "        \n",
    "    return layer"
   ]
  },
  {
   "cell_type": "code",
   "execution_count": 25,
   "metadata": {
    "collapsed": true
   },
   "outputs": [],
   "source": [
    "x = tf.placeholder(tf.float32, shape=[None, img_size, img_size, num_channels], name='x')\n",
    "x_image = tf.reshape(x, [-1, img_size, img_size, num_channels]) #-1 put everything as 1 array\n",
    "y_true = tf.placeholder(tf.float32, shape=[None, num_classes], name='y_true')\n",
    "y_true_cls = tf.argmax(y_true, axis=1)\n",
    "keep_prob_fc=tf.placeholder(tf.float32)\n",
    "keep_prob_conv=tf.placeholder(tf.float32)"
   ]
  },
  {
   "cell_type": "code",
   "execution_count": 26,
   "metadata": {
    "collapsed": true
   },
   "outputs": [],
   "source": [
    "# Convolutional Layer 1.\n",
    "filter_size1 = 5          # Convolution filters are 5 x 5 pixels.\n",
    "num_filters1 = 32         # There are 32 of these filters.\n",
    "\n",
    "# Convolutional Layer 2.\n",
    "filter_size2 = 4          # Convolution filters are 4 x 4 pixels.\n",
    "num_filters2 = 64      # There are 64 of these filters.\n",
    "\n",
    "# Convolutional Layer 3.\n",
    "filter_size3 = 3          # Convolution filters are 3 x 3 pixels.\n",
    "num_filters3 = 128      # There are 128 of these filters.\n",
    "\n",
    "# Fully-connected layer.\n",
    "fc_size = 500 "
   ]
  },
  {
   "cell_type": "code",
   "execution_count": 27,
   "metadata": {
    "collapsed": true
   },
   "outputs": [],
   "source": [
    "layer_conv1, weights_conv1 = \\\n",
    "    new_conv_layer(input=x_image,\n",
    "                   num_input_channels=num_channels,\n",
    "                   filter_size=filter_size1,\n",
    "                   num_filters=num_filters1,\n",
    "                   use_pooling=True,\n",
    "                   use_dropout=False)\n",
    "    \n",
    "layer_conv2, weights_conv2 = \\\n",
    "    new_conv_layer(input=layer_conv1,\n",
    "                   num_input_channels=num_filters1,\n",
    "                   filter_size=filter_size2,\n",
    "                   num_filters=num_filters2,\n",
    "                   use_pooling=True,\n",
    "                   use_dropout=False)\n",
    "    \n",
    "layer_conv3, weights_conv3 = \\\n",
    "    new_conv_layer(input=layer_conv2,\n",
    "                   num_input_channels=num_filters2,\n",
    "                   filter_size=filter_size3,\n",
    "                   num_filters=num_filters3,\n",
    "                   use_pooling=True,\n",
    "                   use_dropout=True)"
   ]
  },
  {
   "cell_type": "code",
   "execution_count": 28,
   "metadata": {
    "collapsed": true
   },
   "outputs": [],
   "source": [
    "layer_flat, num_features = flatten_layer(layer_conv3)"
   ]
  },
  {
   "cell_type": "code",
   "execution_count": 29,
   "metadata": {},
   "outputs": [
    {
     "data": {
      "text/plain": [
       "<tf.Tensor 'add_4:0' shape=(?, 10) dtype=float32>"
      ]
     },
     "execution_count": 29,
     "metadata": {},
     "output_type": "execute_result"
    }
   ],
   "source": [
    "layer_fc1 = new_fc_layer(input=layer_flat,\n",
    "                         num_inputs=num_features,\n",
    "                         num_outputs=fc_size,\n",
    "                         use_relu=True,\n",
    "                         use_dropout=True)\n",
    "\n",
    "layer_fc1\n",
    "\n",
    "layer_fc2 = new_fc_layer(input=layer_fc1,\n",
    "                         num_inputs=fc_size,\n",
    "                         num_outputs=num_classes,\n",
    "                         use_relu=False,\n",
    "                         use_dropout=False)\n",
    "\n",
    "layer_fc2"
   ]
  },
  {
   "cell_type": "code",
   "execution_count": 30,
   "metadata": {
    "collapsed": true
   },
   "outputs": [],
   "source": [
    "y_pred = tf.nn.softmax(layer_fc2)\n",
    "y_pred_cls = tf.argmax(y_pred, axis=1)"
   ]
  },
  {
   "cell_type": "markdown",
   "metadata": {},
   "source": [
    "# Define lost function"
   ]
  },
  {
   "cell_type": "code",
   "execution_count": 31,
   "metadata": {
    "collapsed": true
   },
   "outputs": [],
   "source": [
    "cross_entropy = tf.nn.softmax_cross_entropy_with_logits(logits=layer_fc2,\n",
    "                                                        labels=y_true)\n",
    "cost = tf.reduce_mean(cross_entropy)\n",
    "\n",
    "optimizer = tf.train.AdamOptimizer(learning_rate=1e-4).minimize(cost)\n",
    "correct_prediction = tf.equal(y_pred_cls, y_true_cls)\n",
    "accuracy = tf.reduce_mean(tf.cast(correct_prediction, tf.float32))"
   ]
  },
  {
   "cell_type": "markdown",
   "metadata": {},
   "source": [
    "# Train the model"
   ]
  },
  {
   "cell_type": "code",
   "execution_count": 32,
   "metadata": {
    "collapsed": true
   },
   "outputs": [],
   "source": [
    "session = tf.Session()\n",
    "\n",
    "def init_variables():\n",
    "    session.run(tf.global_variables_initializer())"
   ]
  },
  {
   "cell_type": "code",
   "execution_count": 33,
   "metadata": {
    "collapsed": true
   },
   "outputs": [],
   "source": [
    "batch_size = 50\n",
    "\n",
    "#function next_batch\n",
    "def next_batch(num, data, labels):\n",
    "    '''\n",
    "    Return a total of `num` random samples and labels. \n",
    "    '''\n",
    "    idx = np.arange(0 , len(data))\n",
    "    np.random.shuffle(idx)\n",
    "    idx = idx[:num]\n",
    "    data_shuffle = [data[i] for i in idx]\n",
    "    labels_shuffle = [labels[i] for i in idx]\n",
    "\n",
    "    return np.asarray(data_shuffle), np.asarray(labels_shuffle)"
   ]
  },
  {
   "cell_type": "code",
   "execution_count": 34,
   "metadata": {
    "collapsed": true
   },
   "outputs": [],
   "source": [
    "def optimize(num_iterations, X):\n",
    "    global total_iterations\n",
    "    \n",
    "    start_time = time.time()\n",
    "    \n",
    "    #array to plot\n",
    "    losses = {'train':[], 'validation':[]}\n",
    "    \n",
    "    for i in range(num_iterations):\n",
    "            total_iterations += 1\n",
    "            # Get a batch of training examples.\n",
    "            # x_batch now holds a batch of images and\n",
    "            # y_true_batch are the true labels for those images.\n",
    "            x_batch, y_true_batch = next_batch(batch_size, X_train, y_train)\n",
    "\n",
    "            # Put the batch into a dict with the proper names\n",
    "            # for placeholder variables in the TensorFlow graph.\n",
    "            feed_dict_train = {x: x_batch,\n",
    "                               y_true: y_true_batch,\n",
    "                               keep_prob_conv : 0.3,\n",
    "                               keep_prob_fc : 0.4}\n",
    "            feed_dict_validation = {x: X_validation,\n",
    "                               y_true: y_validation,\n",
    "                               keep_prob_conv : 1,\n",
    "                               keep_prob_fc : 1}\n",
    "            \n",
    "            # Run the optimizer using this batch of training data.\n",
    "            # TensorFlow assigns the variables in feed_dict_train\n",
    "            # to the placeholder variables and then runs the optimizer.\n",
    "            session.run(optimizer, feed_dict=feed_dict_train)\n",
    "            \n",
    "            acc_train = session.run(accuracy, feed_dict=feed_dict_train)\n",
    "            acc_validation = session.run(accuracy, feed_dict=feed_dict_validation)\n",
    "            losses['train'].append(acc_train)\n",
    "            losses['validation'].append(acc_validation)\n",
    "            \n",
    "            # Print status every X iterations.\n",
    "            if (total_iterations % X == 0) or (i ==(num_iterations -1)):\n",
    "            # Calculate the accuracy on the training-set.\n",
    "                                \n",
    "                msg = \"Iteration: {0:>6}, Training Accuracy: {1:>6.1%}, Validation Accuracy: {2:>6.1%}\"\n",
    "                print(msg.format(total_iterations, acc_train, acc_validation))\n",
    "                \n",
    "    \n",
    "    # Ending time.\n",
    "    end_time = time.time()\n",
    "\n",
    "    # Difference between start and end-times.\n",
    "    time_dif = end_time - start_time\n",
    "\n",
    "    # Print the time-usage.\n",
    "    print(\"Time usage: \" + str(timedelta(seconds=int(round(time_dif)))))\n",
    "    \n",
    "    plt.plot(losses['train'], label='Training loss')\n",
    "    plt.plot(losses['validation'], label='Validation loss')\n",
    "    plt.legend()\n",
    "    _ = plt.ylim()"
   ]
  },
  {
   "cell_type": "code",
   "execution_count": 35,
   "metadata": {
    "collapsed": true
   },
   "outputs": [],
   "source": [
    "init_variables()\n",
    "total_iterations = 0"
   ]
  },
  {
   "cell_type": "code",
   "execution_count": 36,
   "metadata": {
    "scrolled": true
   },
   "outputs": [
    {
     "name": "stdout",
     "output_type": "stream",
     "text": [
      "Iteration:    250, Training Accuracy:  18.0%, Validation Accuracy:  17.5%\n",
      "Iteration:    500, Training Accuracy:  36.0%, Validation Accuracy:  28.0%\n",
      "Iteration:    750, Training Accuracy:  40.0%, Validation Accuracy:  30.6%\n",
      "Iteration:   1000, Training Accuracy:  48.0%, Validation Accuracy:  34.7%\n",
      "Time usage: 0:51:07\n"
     ]
    },
    {
     "data": {
      "image/png": "[encoded data removed]",
      "text/plain": [
       "<matplotlib.figure.Figure at 0x28a321d1860>"
      ]
     },
     "metadata": {},
     "output_type": "display_data"
    }
   ],
   "source": [
    "optimize(num_iterations=1000, X=250)"
   ]
  },
  {
   "cell_type": "code",
   "execution_count": 37,
   "metadata": {},
   "outputs": [
    {
     "name": "stdout",
     "output_type": "stream",
     "text": [
      "Model saved in path: /tmp/model\n"
     ]
    }
   ],
   "source": [
    "saver = tf.train.Saver()\n",
    "\n",
    "save_path = saver.save(session, \"/tmp/model\")\n",
    "print(\"Model saved in path: %s\" % save_path)"
   ]
  },
  {
   "cell_type": "code",
   "execution_count": 38,
   "metadata": {
    "collapsed": true
   },
   "outputs": [],
   "source": [
    "def plot_images(images, cls_true, cls_pred=None):\n",
    "    assert len(images) == len(cls_true) == 12\n",
    "    \n",
    "    # Create figure with 3x3 sub-plots.\n",
    "    fig, axes = plt.subplots(4, 3)\n",
    "    fig.subplots_adjust(hspace=0.3, wspace=0.3)\n",
    "\n",
    "    for i, ax in enumerate(axes.flat):\n",
    "        # Plot image.\n",
    "        ax.imshow(images[i].reshape(img_shape), cmap='binary')\n",
    "\n",
    "        # Show true and predicted classes.\n",
    "        if cls_pred is None:\n",
    "            xlabel = \"True: {0}\".format(cls_true[i])\n",
    "        else:\n",
    "            xlabel = \"True: {0}, Pred: {1}\".format(cls_true[i], cls_pred[i])\n",
    "\n",
    "        # Show the classes as the label on the x-axis.\n",
    "        ax.set_xlabel(xlabel)\n",
    "        \n",
    "        # Remove ticks from the plot.\n",
    "        ax.set_xticks([])\n",
    "        ax.set_yticks([])\n",
    "    \n",
    "    # Ensure the plot is shown correctly with multiple plots\n",
    "    # in a single Notebook cell.\n",
    "    plt.show()"
   ]
  },
  {
   "cell_type": "code",
   "execution_count": 39,
   "metadata": {
    "collapsed": true
   },
   "outputs": [],
   "source": [
    "def plot_confusion_matrix(data_pred_cls,data_predicted_cls):\n",
    "    # This is called from print_test_accuracy() below.\n",
    "\n",
    "    # cls_pred is an array of the predicted class-number for\n",
    "    # all images in the test-set.\n",
    "  \n",
    "    # Get the confusion matrix using sklearn.\n",
    "    cm = confusion_matrix(y_true=data_pred_cls,\n",
    "                          y_pred=data_predicted_cls)\n",
    "\n",
    "    # Print the confusion matrix as text.\n",
    "    print(cm)\n",
    "\n",
    "    # Plot the confusion matrix as an image.\n",
    "    plt.matshow(cm)\n",
    "\n",
    "    # Make various adjustments to the plot.\n",
    "    plt.colorbar()\n",
    "    tick_marks = np.arange(num_classes)\n",
    "    plt.xticks(tick_marks, range(num_classes))\n",
    "    plt.yticks(tick_marks, range(num_classes))\n",
    "    plt.xlabel('Predicted')\n",
    "    plt.ylabel('True')\n",
    "\n",
    "    # Ensure the plot is shown correctly with multiple plots\n",
    "    # in a single Notebook cell.\n",
    "    plt.show()"
   ]
  },
  {
   "cell_type": "code",
   "execution_count": 40,
   "metadata": {},
   "outputs": [
    {
     "data": {
      "image/png": "[encoded data removed]",
      "text/plain": [
       "<matplotlib.figure.Figure at 0x28a328d3be0>"
      ]
     },
     "metadata": {},
     "output_type": "display_data"
    }
   ],
   "source": [
    "feed_dict_validation = {x: X_validation,\n",
    "                    y_true: y_validation,\n",
    "                    keep_prob_conv : 1,\n",
    "                    keep_prob_fc : 1}\n",
    "df_validation_Predicted_cls = session.run(y_pred_cls, feed_dict=feed_dict_validation)\n",
    "\n",
    "plot_images(images=X_validation[50:62],\n",
    "            cls_true=df_validation_toPred_cls[50:62],\n",
    "            cls_pred=df_validation_Predicted_cls [50:62])"
   ]
  },
  {
   "cell_type": "code",
   "execution_count": 75,
   "metadata": {},
   "outputs": [
    {
     "name": "stdout",
     "output_type": "stream",
     "text": [
      "True : 2 / entlebucher\n",
      "Pred : 2 / entlebucher\n"
     ]
    },
    {
     "data": {
      "image/png": "[encoded data removed]",
      "text/plain": [
       "<matplotlib.figure.Figure at 0x16635572710>"
      ]
     },
     "metadata": {},
     "output_type": "display_data"
    }
   ],
   "source": [
    "i = 63\n",
    "print((\"True : {0} / {1}\").format(df_validation_toPred_cls[i], labels_name[df_validation_toPred_cls[i]]))\n",
    "print((\"Pred : {0} / {1}\").format(df_validation_Predicted_cls[i], labels_name[df_validation_Predicted_cls[i]]))\n",
    "\n",
    "lum = X_validation[i,:,:,:]\n",
    "plt.imshow(lum)\n",
    "plt.show()"
   ]
  },
  {
   "cell_type": "code",
   "execution_count": 76,
   "metadata": {},
   "outputs": [
    {
     "name": "stdout",
     "output_type": "stream",
     "text": [
      "[[ 3  3  1 15 12]\n",
      " [ 1 11 11  2 11]\n",
      " [ 1  7 12  3 16]\n",
      " [ 1  1  0 29  1]\n",
      " [ 1  1  0 12 22]]\n"
     ]
    },
    {
     "data": {
      "image/png": "[encoded data removed]",
      "text/plain": [
       "<matplotlib.figure.Figure at 0x1663666ce48>"
      ]
     },
     "metadata": {},
     "output_type": "display_data"
    }
   ],
   "source": [
    "plot_confusion_matrix(df_validation_toPred_cls,df_validation_Predicted_cls)"
   ]
  }
 ],
 "metadata": {
  "kernelspec": {
   "display_name": "Python 3",
   "language": "python",
   "name": "python3"
  },
  "language_info": {
   "codemirror_mode": {
    "name": "ipython",
    "version": 3
   },
   "file_extension": ".py",
   "mimetype": "text/x-python",
   "name": "python",
   "nbconvert_exporter": "python",
   "pygments_lexer": "ipython3",
   "version": "3.6.2"
  }
 },
 "nbformat": 4,
 "nbformat_minor": 2
}
