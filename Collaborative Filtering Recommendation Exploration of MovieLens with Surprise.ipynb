{
 "cells": [
  {
   "cell_type": "markdown",
   "metadata": {},
   "source": [
    "# Collaborative Filtering Recommendation Exploration\n",
    "## Knn Exploration of MovieLens with Surprise"
   ]
  },
  {
   "cell_type": "code",
   "execution_count": 4,
   "metadata": {},
   "outputs": [
    {
     "name": "stdout",
     "output_type": "stream",
     "text": [
      "Requirement already satisfied: scikit-surprise in e:\\application\\anaconda\\lib\\site-packages\n",
      "Requirement already satisfied: numpy>=1.11.2 in e:\\application\\anaconda\\lib\\site-packages (from scikit-surprise)\n",
      "Requirement already satisfied: six>=1.10.0 in e:\\application\\anaconda\\lib\\site-packages (from scikit-surprise)\n",
      "Requirement already satisfied: joblib>=0.11 in e:\\application\\anaconda\\lib\\site-packages (from scikit-surprise)\n"
     ]
    }
   ],
   "source": [
    "!pip install scikit-surprise\n",
    "import io  # needed because of weird encoding of u.item file\n",
    "from surprise import KNNBaseline\n",
    "from surprise import Dataset\n",
    "from surprise import get_dataset_dir"
   ]
  },
  {
   "cell_type": "markdown",
   "metadata": {},
   "source": [
    "## Helper Function to Convert IDS to Names"
   ]
  },
  {
   "cell_type": "code",
   "execution_count": 11,
   "metadata": {
    "collapsed": true
   },
   "outputs": [],
   "source": [
    "def read_item_names():\n",
    "    \"\"\"Read the u.item file from MovieLens 100-k dataset and return two\n",
    "    mappings to convert raw ids into movie names and movie names into raw ids.\n",
    "    \"\"\"\n",
    "\n",
    "    file_name = get_dataset_dir() + '/ml-100k/ml-100k/u.item'\n",
    "    rid_to_name = {}\n",
    "    name_to_rid = {}\n",
    "    with io.open(file_name, 'r', encoding='ISO-8859-1') as f:\n",
    "        for line in f:\n",
    "            line = line.split('|')\n",
    "            rid_to_name[line[0]] = line[1]\n",
    "            name_to_rid[line[1]] = line[0]\n",
    "\n",
    "    return rid_to_name, name_to_rid"
   ]
  },
  {
   "cell_type": "markdown",
   "metadata": {},
   "source": [
    "## Train KNN based model"
   ]
  },
  {
   "cell_type": "code",
   "execution_count": 9,
   "metadata": {},
   "outputs": [
    {
     "name": "stdout",
     "output_type": "stream",
     "text": [
      "Dataset ml-100k could not be found. Do you want to download it? [Y/n] Y\n",
      "Trying to download dataset from http://files.grouplens.org/datasets/movielens/ml-100k.zip...\n",
      "Done! Dataset ml-100k has been saved to C:\\Users\\liuji/.surprise_data/ml-100k\n",
      "Estimating biases using als...\n",
      "Computing the pearson_baseline similarity matrix...\n",
      "Done computing similarity matrix.\n"
     ]
    },
    {
     "data": {
      "text/plain": [
       "<surprise.prediction_algorithms.knns.KNNBaseline at 0x1e5796c1cf8>"
      ]
     },
     "execution_count": 9,
     "metadata": {},
     "output_type": "execute_result"
    }
   ],
   "source": [
    "# First, train the algorithm to compute the similarities between items\n",
    "data = Dataset.load_builtin('ml-100k')\n",
    "trainset = data.build_full_trainset()\n",
    "sim_options = {'name': 'pearson_baseline', 'user_based': False}\n",
    "algo = KNNBaseline(sim_options=sim_options)\n",
    "algo.fit(trainset)\n",
    "\n"
   ]
  },
  {
   "cell_type": "code",
   "execution_count": 18,
   "metadata": {},
   "outputs": [
    {
     "data": {
      "text/plain": [
       "<surprise.trainset.Trainset at 0x1e5796c7828>"
      ]
     },
     "execution_count": 18,
     "metadata": {},
     "output_type": "execute_result"
    }
   ],
   "source": [
    "trainset"
   ]
  },
  {
   "cell_type": "markdown",
   "metadata": {},
   "source": [
    "## Print 10 Similarity Based Recommendations"
   ]
  },
  {
   "cell_type": "code",
   "execution_count": 12,
   "metadata": {},
   "outputs": [
    {
     "name": "stdout",
     "output_type": "stream",
     "text": [
      "The 10 nearest neighbors of Toy Story are:\n",
      "Beauty and the Beast (1991)\n",
      "Raiders of the Lost Ark (1981)\n",
      "That Thing You Do! (1996)\n",
      "Lion King, The (1994)\n",
      "Craft, The (1996)\n",
      "Liar Liar (1997)\n",
      "Aladdin (1992)\n",
      "Cool Hand Luke (1967)\n",
      "Winnie the Pooh and the Blustery Day (1968)\n",
      "Indiana Jones and the Last Crusade (1989)\n"
     ]
    }
   ],
   "source": [
    "# Read the mappings raw id <-> movie name\n",
    "rid_to_name, name_to_rid = read_item_names()\n",
    "\n",
    "# Retrieve inner id of the movie Toy Story\n",
    "toy_story_raw_id = name_to_rid['Toy Story (1995)']\n",
    "toy_story_inner_id = algo.trainset.to_inner_iid(toy_story_raw_id)\n",
    "\n",
    "# Retrieve inner ids of the nearest neighbors of Toy Story.\n",
    "toy_story_neighbors = algo.get_neighbors(toy_story_inner_id, k=10)\n",
    "\n",
    "# Convert inner ids of the neighbors into names.\n",
    "toy_story_neighbors = (algo.trainset.to_raw_iid(inner_id)\n",
    "                       for inner_id in toy_story_neighbors)\n",
    "toy_story_neighbors = (rid_to_name[rid]\n",
    "                       for rid in toy_story_neighbors)\n",
    "\n",
    "print('The 10 nearest neighbors of Toy Story are:')\n",
    "for movie in toy_story_neighbors:\n",
    "    print(movie)"
   ]
  },
  {
   "cell_type": "markdown",
   "metadata": {},
   "source": [
    "### In Class Exercise:  Write a Function to Return The Top Ten Recommendations From Five Movies in ml-100k\n",
    "\n",
    "Example Pseudocode:\n",
    "\n",
    "```\n",
    "def recommendations(movies, rec_count)\"\n",
    "    \"\"\"Your\n",
    "    return recommendations\n",
    "    \n",
    "movies = [\"Beauty and the Beast (1991)\", \"Cool Hand Luke (1967)\",.. ]\n",
    "\n",
    "print(recommendations(movies=movies, rec_count=10)\n",
    "\n",
    "```\n",
    "\n",
    "* Additional considerations:\n",
    "\n",
    "- What tradeoffs are you making in picking the top from a group of selections vs just movie?\n",
    "- How well will this perform on a very large dataset (every movie ever made)?\n",
    "\n",
    "    \n",
    "\n",
    "\n",
    "\n"
   ]
  },
  {
   "cell_type": "code",
   "execution_count": 24,
   "metadata": {
    "collapsed": true
   },
   "outputs": [],
   "source": [
    "def recommendation(movies, rec_count):\n",
    "    rid_to_name, name_to_rid = read_item_names()   \n",
    "    for m in movies:\n",
    "        \n",
    "        toy_story_raw_id = name_to_rid[m]\n",
    "        toy_story_inner_id = algo.trainset.to_inner_iid(toy_story_raw_id)\n",
    "\n",
    "        toy_story_neighbors = algo.get_neighbors(toy_story_inner_id, k=rec_count)\n",
    "        toy_story_neighbors = (algo.trainset.to_raw_iid(inner_id)\n",
    "                       for inner_id in toy_story_neighbors)\n",
    "        toy_story_neighbors = (rid_to_name[rid]\n",
    "                       for rid in toy_story_neighbors)\n",
    "        print('The 10 nearest neighbors of', m, 'are:')\n",
    "        for movie in toy_story_neighbors:\n",
    "            print(movie)"
   ]
  },
  {
   "cell_type": "code",
   "execution_count": 25,
   "metadata": {},
   "outputs": [
    {
     "name": "stdout",
     "output_type": "stream",
     "text": [
      "The 10 nearest neighbors of Beauty and the Beast (1991) are:\n",
      "Lion King, The (1994)\n",
      "Toy Story (1995)\n",
      "Cinderella (1950)\n",
      "Hunchback of Notre Dame, The (1996)\n",
      "Sound of Music, The (1965)\n",
      "Clueless (1995)\n",
      "Aladdin (1992)\n",
      "E.T. the Extra-Terrestrial (1982)\n",
      "Winnie the Pooh and the Blustery Day (1968)\n",
      "Ghost (1990)\n",
      "The 10 nearest neighbors of Cool Hand Luke (1967) are:\n",
      "One Flew Over the Cuckoo's Nest (1975)\n",
      "M*A*S*H (1970)\n",
      "Toy Story (1995)\n",
      "Godfather: Part II, The (1974)\n",
      "Rosencrantz and Guildenstern Are Dead (1990)\n",
      "Sting, The (1973)\n",
      "Wizard of Oz, The (1939)\n",
      "Dial M for Murder (1954)\n",
      "Fargo (1996)\n",
      "Absolute Power (1997)\n",
      "The 10 nearest neighbors of Indiana Jones and the Last Crusade (1989) are:\n",
      "Raiders of the Lost Ark (1981)\n",
      "Back to the Future (1985)\n",
      "Return of the Jedi (1983)\n",
      "Independence Day (ID4) (1996)\n",
      "Star Wars (1977)\n",
      "While You Were Sleeping (1995)\n",
      "Liar Liar (1997)\n",
      "Jurassic Park (1993)\n",
      "Better Off Dead... (1985)\n",
      "Maverick (1994)\n",
      "The 10 nearest neighbors of Lion King, The (1994) are:\n",
      "Aladdin (1992)\n",
      "Beauty and the Beast (1991)\n",
      "Mrs. Doubtfire (1993)\n",
      "Toy Story (1995)\n",
      "American President, The (1995)\n",
      "Fox and the Hound, The (1981)\n",
      "Cinderella (1950)\n",
      "Jumanji (1995)\n",
      "Firm, The (1993)\n",
      "My Fair Lady (1964)\n",
      "None\n"
     ]
    }
   ],
   "source": [
    "movies = [\"Beauty and the Beast (1991)\", \"Cool Hand Luke (1967)\", 'Indiana Jones and the Last Crusade (1989)', 'Lion King, The (1994)']\n",
    "print(recommendation(movies=movies, rec_count=10))"
   ]
  },
  {
   "cell_type": "code",
   "execution_count": null,
   "metadata": {
    "collapsed": true
   },
   "outputs": [],
   "source": []
  }
 ],
 "metadata": {
  "kernelspec": {
   "display_name": "Python 3",
   "language": "python",
   "name": "python3"
  },
  "language_info": {
   "codemirror_mode": {
    "name": "ipython",
    "version": 3
   },
   "file_extension": ".py",
   "mimetype": "text/x-python",
   "name": "python",
   "nbconvert_exporter": "python",
   "pygments_lexer": "ipython3",
   "version": "3.6.2"
  },
  "toc": {
   "nav_menu": {},
   "number_sections": true,
   "sideBar": true,
   "skip_h1_title": false,
   "title_cell": "Table of Contents",
   "title_sidebar": "Contents",
   "toc_cell": false,
   "toc_position": {},
   "toc_section_display": true,
   "toc_window_display": false
  }
 },
 "nbformat": 4,
 "nbformat_minor": 2
}
